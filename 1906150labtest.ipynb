{
  "nbformat": 4,
  "nbformat_minor": 0,
  "metadata": {
    "colab": {
      "name": "1906150labtest.ipynb",
      "provenance": [],
      "authorship_tag": "ABX9TyM3CnVo4OJC/HsqLCznJu3Z",
      "include_colab_link": true
    },
    "kernelspec": {
      "name": "python3",
      "display_name": "Python 3"
    },
    "language_info": {
      "name": "python"
    }
  },
  "cells": [
    {
      "cell_type": "markdown",
      "metadata": {
        "id": "view-in-github",
        "colab_type": "text"
      },
      "source": [
        "<a href=\"https://colab.research.google.com/github/YuthikaKhedwal/python/blob/main/1906150labtest.ipynb\" target=\"_parent\"><img src=\"https://colab.research.google.com/assets/colab-badge.svg\" alt=\"Open In Colab\"/></a>"
      ]
    },
    {
      "cell_type": "markdown",
      "source": [
        "Q1-Write a program that prompts the user to enters the roll numbers of the student from the keyboard and then convert it into the binary and display it."
      ],
      "metadata": {
        "id": "wRemSKKRaUtY"
      }
    },
    {
      "cell_type": "code",
      "execution_count": 9,
      "metadata": {
        "colab": {
          "base_uri": "https://localhost:8080/"
        },
        "id": "O4LYZoeKW4nL",
        "outputId": "7f0683fb-2423-4b96-d95f-02ff8daa8a4a"
      },
      "outputs": [
        {
          "output_type": "stream",
          "name": "stdout",
          "text": [
            "Yuthika Khedwal\n",
            "1906150\n",
            "Enter the roll number1906150\n",
            "0001 1001 0000 0110 0001 0101 0000 "
          ]
        }
      ],
      "source": [
        "print('Yuthika Khedwal')\n",
        "print('1906150')\n",
        "\n",
        "def DeciToBin_1906088(roll_digit):\n",
        "  if(roll_digit=='0'): return \"0000\"\n",
        "  elif(roll_digit=='1'): return \"0001\"\n",
        "  elif(roll_digit=='2'): return \"0010\"\n",
        "  elif(roll_digit=='3'): return \"0011\"\n",
        "  elif(roll_digit=='4'): return \"0100\"\n",
        "  elif(roll_digit=='5'): return \"0101\"\n",
        "  elif(roll_digit=='6'): return \"0110\"\n",
        "  elif(roll_digit=='7'): return \"0111\"\n",
        "  elif(roll_digit=='8'): return \"1000\"\n",
        "  else:\n",
        "    return \"1001\"\n",
        "\n",
        "n= str(input('Enter the roll number'))\n",
        "for i in n:\n",
        "  print(DeciToBin_1906088(i),end = ' ')"
      ]
    },
    {
      "cell_type": "markdown",
      "source": [
        "Q2- Write a program to display the following string . (String must be your first name and it should be user input from the keyboard and loop should run up to the length of the first name)"
      ],
      "metadata": {
        "id": "GMx1EUG-aM9j"
      }
    },
    {
      "cell_type": "code",
      "source": [
        "print('Yuthika Khedwal')\n",
        "print('1906150')\n",
        "s = input(\"Enter your name : \")\n",
        "l = len(s)\n",
        "flag = False\n",
        "counter = 0\n",
        "for i in range (0,l) :\n",
        "    print(s[:l-counter])\n",
        "    if(counter+2>=l): flag = True\n",
        "    if(flag == False):\n",
        "        counter = counter+2;\n",
        "    else:\n",
        "        counter = counter-2;"
      ],
      "metadata": {
        "id": "rCsooHvCafaV",
        "colab": {
          "base_uri": "https://localhost:8080/"
        },
        "outputId": "17755dc3-f104-4b12-d59e-47d383da887b"
      },
      "execution_count": 15,
      "outputs": [
        {
          "output_type": "stream",
          "name": "stdout",
          "text": [
            "Yuthika Khedwal\n",
            "1906150\n",
            "Enter your name : Yuthika\n",
            "Yuthika\n",
            "Yuthi\n",
            "Yut\n",
            "Y\n",
            "Yut\n",
            "Yuthi\n",
            "Yuthika\n"
          ]
        }
      ]
    },
    {
      "cell_type": "markdown",
      "source": [
        "Q3- Using List , write a menu driven program for the following operation for the Queue. enqueue(data) delete_queue() display Note: Queue name must be represented as \"queue_roll\""
      ],
      "metadata": {
        "id": "ClANBdPbagWL"
      }
    },
    {
      "cell_type": "code",
      "source": [
        "q=[]\n",
        "def Enqueue_1906150():\n",
        "    if len(q)==size: \n",
        "        print(\"Queue is Full!!!!\")\n",
        "    else:\n",
        "        element=input(\"Enter the element:\")\n",
        "        q.append(element)\n",
        "        print(element,\"is added to the Queue!\")\n",
        "def dequeue_1906150():\n",
        "    if not q:# or if len(stack)==0\n",
        "        print(\"Queue is Empty!!!\")\n",
        "    else:\n",
        "        e=q.pop(0)\n",
        "        print(\"element removed!!:\",e)\n",
        "def display_1906150():\n",
        "    print(q)\n",
        "    \n",
        "size=int(input(\"Enter the size of Queue:\"))\n",
        "while True:\n",
        "    print(\"Select the Operation:\\n1.Add\\n 2.Delete\\n 3. Display\\n 4. Quit\\n\")\n",
        "    choice=int(input())\n",
        "    if choice==1:\n",
        "        Enqueue_1906150()\n",
        "    elif choice==2:\n",
        "        dequeue_1906150()\n",
        "    elif choice==3:\n",
        "        display_1906150()\n",
        "    elif choice==4:\n",
        "        print(\"EXIT!!!\")\n",
        "        break\n",
        "    else:\n",
        "        print(\"Invalid Option!!!\")"
      ],
      "metadata": {
        "id": "dymAfmhDalUe"
      },
      "execution_count": null,
      "outputs": []
    },
    {
      "cell_type": "markdown",
      "source": [
        "Q4- Using the parametrized constructor initialize the name, father name, date of birth and PAN number of the person and then define two method a. pan_validation_roll () b. display_roll () Note: class name must be represented as PAN_rollnumber. Validation checking (PAN number must be 10 digit and 6th to 9th character must be number as shown in the figure, date of birth must be as DD/MM/YYYY)"
      ],
      "metadata": {
        "id": "HCW6HyJPal6v"
      }
    },
    {
      "cell_type": "code",
      "source": [
        "from tabulate import tabulate\n",
        "class PAN_1906150:\n",
        "  \n",
        "  def __init__(self):\n",
        "    name='nil'\n",
        "    fname='nil'\n",
        "    dob=0\n",
        "    pan='nil'\n",
        "\n",
        "  def getdata_1906150(self):\n",
        "    self.name=input(\"Enter name: \")\n",
        "    self.fname=input(\"Enter father's name: \")\n",
        "    self.dob=input(\"Enter dob(dd/mm/yyyy): \")\n",
        "    self.pan=input(\"Enter PAN: \")\n",
        "\n",
        "  def validation_1906150(self):\n",
        "      if len(self.pan) == 10:\n",
        "        if self.pan[5:9] == \"8888\":\n",
        "          print(\"VALID PAN\")\n",
        "      else:\n",
        "        print(\"INVALID PAN\")\n",
        "\n",
        "  def display_1906150(self):\n",
        "      details=[[\"Name \",self.name],[\"Father's name \",self.fname],[\"Date of birth \",self.dob],[\"PAN\",self.pan]]\n",
        "      print(tabulate(details, tablefmt=\"grid\"))\n",
        "\n",
        "obj=PAN_1906150()\n",
        "obj.getdata_1906150()\n",
        "obj.validation_1906150()\n",
        "obj.display_1906150()"
      ],
      "metadata": {
        "colab": {
          "base_uri": "https://localhost:8080/"
        },
        "id": "ksiExKRYapRu",
        "outputId": "a797b0c4-5e2c-4cec-87d9-4b395b394732"
      },
      "execution_count": null,
      "outputs": [
        {
          "output_type": "stream",
          "name": "stdout",
          "text": [
            "Enter name: Yuthika\n",
            "Enter father's name: Rajesh\n",
            "Enter dob(dd/mm/yyyy): 16/03/2001\n",
            "Enter PAN: 4443335556\n",
            "+---------------+------------+\n",
            "| Name          | Yuthika    |\n",
            "+---------------+------------+\n",
            "| Father's name | Rajesh     |\n",
            "+---------------+------------+\n",
            "| Date of birth | 16/03/2001 |\n",
            "+---------------+------------+\n",
            "| PAN           | 4443335556 |\n",
            "+---------------+------------+\n"
          ]
        }
      ]
    },
    {
      "cell_type": "markdown",
      "source": [
        "Q5- Create a binary matrix of size MXN(M< N) and a testing column vector of size (1X M). treat each column of the matrix A as vector x and then find the angle between each column vector of A with the testing vector y and the result is stored into a data frame df."
      ],
      "metadata": {
        "id": "mm8SBSboap-N"
      }
    },
    {
      "cell_type": "code",
      "source": [
        "print('Yuthika Khedwal')\n",
        "print('1906150')\n",
        "import numpy as np\n",
        "import pandas as pd\n",
        "import math\n",
        "matrix=[[0,0,0,1,1,0,1,1,1,0],[1,1,0,0,1,1,1,0,0,0],[0,0,0,1,0,1,0,0,0,0],[1,1,0,0,0,0,1,1,1,0],[1,1,1,1,1,0,0,0,0,0]]\n",
        "y=[1,0,0,1,0,1,1,0,1,0]\n",
        "lst=[]\n",
        "for i in matrix:\n",
        "  unit_vector_1 = i / np.linalg.norm(i)\n",
        "  unit_vector_2 = y / np.linalg.norm(y)\n",
        "  dot_product = np.dot(unit_vector_1, unit_vector_2)\n",
        "  angle = np.arccos(dot_product)\n",
        "  lst.append(math.degrees(angle))\n",
        "\n",
        "df=pd.DataFrame()\n",
        "df['angle']=lst\n",
        "df"
      ],
      "metadata": {
        "id": "1BSdBEVRatMy",
        "colab": {
          "base_uri": "https://localhost:8080/",
          "height": 248
        },
        "outputId": "c06feae7-f364-492a-e8fa-3770397ea496"
      },
      "execution_count": 17,
      "outputs": [
        {
          "output_type": "stream",
          "name": "stdout",
          "text": [
            "Yuthika Khedwal\n",
            "1906150\n"
          ]
        },
        {
          "output_type": "execute_result",
          "data": {
            "text/html": [
              "\n",
              "  <div id=\"df-de67829f-77ff-4b5f-9b0a-7aebaaae9e9e\">\n",
              "    <div class=\"colab-df-container\">\n",
              "      <div>\n",
              "<style scoped>\n",
              "    .dataframe tbody tr th:only-of-type {\n",
              "        vertical-align: middle;\n",
              "    }\n",
              "\n",
              "    .dataframe tbody tr th {\n",
              "        vertical-align: top;\n",
              "    }\n",
              "\n",
              "    .dataframe thead th {\n",
              "        text-align: right;\n",
              "    }\n",
              "</style>\n",
              "<table border=\"1\" class=\"dataframe\">\n",
              "  <thead>\n",
              "    <tr style=\"text-align: right;\">\n",
              "      <th></th>\n",
              "      <th>angle</th>\n",
              "    </tr>\n",
              "  </thead>\n",
              "  <tbody>\n",
              "    <tr>\n",
              "      <th>0</th>\n",
              "      <td>53.130102</td>\n",
              "    </tr>\n",
              "    <tr>\n",
              "      <th>1</th>\n",
              "      <td>53.130102</td>\n",
              "    </tr>\n",
              "    <tr>\n",
              "      <th>2</th>\n",
              "      <td>50.768480</td>\n",
              "    </tr>\n",
              "    <tr>\n",
              "      <th>3</th>\n",
              "      <td>53.130102</td>\n",
              "    </tr>\n",
              "    <tr>\n",
              "      <th>4</th>\n",
              "      <td>66.421822</td>\n",
              "    </tr>\n",
              "  </tbody>\n",
              "</table>\n",
              "</div>\n",
              "      <button class=\"colab-df-convert\" onclick=\"convertToInteractive('df-de67829f-77ff-4b5f-9b0a-7aebaaae9e9e')\"\n",
              "              title=\"Convert this dataframe to an interactive table.\"\n",
              "              style=\"display:none;\">\n",
              "        \n",
              "  <svg xmlns=\"http://www.w3.org/2000/svg\" height=\"24px\"viewBox=\"0 0 24 24\"\n",
              "       width=\"24px\">\n",
              "    <path d=\"M0 0h24v24H0V0z\" fill=\"none\"/>\n",
              "    <path d=\"M18.56 5.44l.94 2.06.94-2.06 2.06-.94-2.06-.94-.94-2.06-.94 2.06-2.06.94zm-11 1L8.5 8.5l.94-2.06 2.06-.94-2.06-.94L8.5 2.5l-.94 2.06-2.06.94zm10 10l.94 2.06.94-2.06 2.06-.94-2.06-.94-.94-2.06-.94 2.06-2.06.94z\"/><path d=\"M17.41 7.96l-1.37-1.37c-.4-.4-.92-.59-1.43-.59-.52 0-1.04.2-1.43.59L10.3 9.45l-7.72 7.72c-.78.78-.78 2.05 0 2.83L4 21.41c.39.39.9.59 1.41.59.51 0 1.02-.2 1.41-.59l7.78-7.78 2.81-2.81c.8-.78.8-2.07 0-2.86zM5.41 20L4 18.59l7.72-7.72 1.47 1.35L5.41 20z\"/>\n",
              "  </svg>\n",
              "      </button>\n",
              "      \n",
              "  <style>\n",
              "    .colab-df-container {\n",
              "      display:flex;\n",
              "      flex-wrap:wrap;\n",
              "      gap: 12px;\n",
              "    }\n",
              "\n",
              "    .colab-df-convert {\n",
              "      background-color: #E8F0FE;\n",
              "      border: none;\n",
              "      border-radius: 50%;\n",
              "      cursor: pointer;\n",
              "      display: none;\n",
              "      fill: #1967D2;\n",
              "      height: 32px;\n",
              "      padding: 0 0 0 0;\n",
              "      width: 32px;\n",
              "    }\n",
              "\n",
              "    .colab-df-convert:hover {\n",
              "      background-color: #E2EBFA;\n",
              "      box-shadow: 0px 1px 2px rgba(60, 64, 67, 0.3), 0px 1px 3px 1px rgba(60, 64, 67, 0.15);\n",
              "      fill: #174EA6;\n",
              "    }\n",
              "\n",
              "    [theme=dark] .colab-df-convert {\n",
              "      background-color: #3B4455;\n",
              "      fill: #D2E3FC;\n",
              "    }\n",
              "\n",
              "    [theme=dark] .colab-df-convert:hover {\n",
              "      background-color: #434B5C;\n",
              "      box-shadow: 0px 1px 3px 1px rgba(0, 0, 0, 0.15);\n",
              "      filter: drop-shadow(0px 1px 2px rgba(0, 0, 0, 0.3));\n",
              "      fill: #FFFFFF;\n",
              "    }\n",
              "  </style>\n",
              "\n",
              "      <script>\n",
              "        const buttonEl =\n",
              "          document.querySelector('#df-de67829f-77ff-4b5f-9b0a-7aebaaae9e9e button.colab-df-convert');\n",
              "        buttonEl.style.display =\n",
              "          google.colab.kernel.accessAllowed ? 'block' : 'none';\n",
              "\n",
              "        async function convertToInteractive(key) {\n",
              "          const element = document.querySelector('#df-de67829f-77ff-4b5f-9b0a-7aebaaae9e9e');\n",
              "          const dataTable =\n",
              "            await google.colab.kernel.invokeFunction('convertToInteractive',\n",
              "                                                     [key], {});\n",
              "          if (!dataTable) return;\n",
              "\n",
              "          const docLinkHtml = 'Like what you see? Visit the ' +\n",
              "            '<a target=\"_blank\" href=https://colab.research.google.com/notebooks/data_table.ipynb>data table notebook</a>'\n",
              "            + ' to learn more about interactive tables.';\n",
              "          element.innerHTML = '';\n",
              "          dataTable['output_type'] = 'display_data';\n",
              "          await google.colab.output.renderOutput(dataTable, element);\n",
              "          const docLink = document.createElement('div');\n",
              "          docLink.innerHTML = docLinkHtml;\n",
              "          element.appendChild(docLink);\n",
              "        }\n",
              "      </script>\n",
              "    </div>\n",
              "  </div>\n",
              "  "
            ],
            "text/plain": [
              "       angle\n",
              "0  53.130102\n",
              "1  53.130102\n",
              "2  50.768480\n",
              "3  53.130102\n",
              "4  66.421822"
            ]
          },
          "metadata": {},
          "execution_count": 17
        }
      ]
    }
  ]
}