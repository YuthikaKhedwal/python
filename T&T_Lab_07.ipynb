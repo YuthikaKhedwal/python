{
  "nbformat": 4,
  "nbformat_minor": 0,
  "metadata": {
    "colab": {
      "name": "T&T Lab 07.ipynb",
      "provenance": [],
      "authorship_tag": "ABX9TyPNEpazVpczDxSiYTOfw5Cn",
      "include_colab_link": true
    },
    "kernelspec": {
      "name": "python3",
      "display_name": "Python 3"
    },
    "language_info": {
      "name": "python"
    }
  },
  "cells": [
    {
      "cell_type": "markdown",
      "metadata": {
        "id": "view-in-github",
        "colab_type": "text"
      },
      "source": [
        "<a href=\"https://colab.research.google.com/github/YuthikaKhedwal/python/blob/main/T%26T_Lab_07.ipynb\" target=\"_parent\"><img src=\"https://colab.research.google.com/assets/colab-badge.svg\" alt=\"Open In Colab\"/></a>"
      ]
    },
    {
      "cell_type": "markdown",
      "source": [
        "Q1 - Create a class student consists of roll, name sub1,sub2,sub3 .Using appropriate member function input the details of students information and marks in the various subject and then find the DIVISION of the student.\n",
        "\n"
      ],
      "metadata": {
        "id": "EeXN8YHU43NL"
      }
    },
    {
      "cell_type": "code",
      "execution_count": 1,
      "metadata": {
        "colab": {
          "base_uri": "https://localhost:8080/"
        },
        "id": "ebGsMjuHhHGK",
        "outputId": "97ff9d97-6e68-48ad-fd97-1ce82acc9fb9"
      },
      "outputs": [
        {
          "output_type": "stream",
          "name": "stdout",
          "text": [
            "Yuthika Khedwal\n",
            "1906150\n",
            "\n",
            "Enter roll number: 150\n",
            "Enter name: Yuthika\n",
            "Enter marks in Subject 1: 90\n",
            "Enter marks in Subject 2: 91\n",
            "Enter marks in Subject 3: 86\n",
            "Name -  Yuthika\n",
            "Roll -  150\n",
            "Percentage -  89.0\n",
            "Division -  1st Division\n"
          ]
        }
      ],
      "source": [
        "print('Yuthika Khedwal\\n1906150\\n')\n",
        "class student:\n",
        "  name='no name'\n",
        "  roll=0\n",
        "  sub1=0\n",
        "  sub2=0\n",
        "  sub3=0\n",
        "  percent=0\n",
        "  division='Nil'\n",
        "\n",
        "  def getdata(self):\n",
        "    self.roll=int(input(\"Enter roll number: \"))\n",
        "    self.name=input(\"Enter name: \")\n",
        "    self.sub1=int(input(\"Enter marks in Subject 1: \"))\n",
        "    self.sub2=int(input(\"Enter marks in Subject 2: \"))\n",
        "    self.sub3=int(input(\"Enter marks in Subject 3: \"))\n",
        "\n",
        "  def calculate(self):\n",
        "    self.percent=(self.sub1+self.sub2+self.sub3)/3\n",
        "    if self.percent >= 60:\n",
        "      self.division=\"1st Division\"\n",
        "    elif self.percent <60 and self.percent >=50:\n",
        "      self.division=\"2nd Division\"\n",
        "    elif self.percent <50 and self.percent >=30:\n",
        "      self.division=\"3rd Division\"\n",
        "    else:\n",
        "      self.division=\"FAIL\"\n",
        "\n",
        "  def display(self):\n",
        "    print(\"Name - \",self.name)\n",
        "    print(\"Roll - \",self.roll)\n",
        "    print(\"Percentage - \",self.percent)\n",
        "    print(\"Division - \",self.division)\n",
        "\n",
        "obj=student()\n",
        "obj.getdata()\n",
        "obj.calculate()\n",
        "obj.display()"
      ]
    },
    {
      "cell_type": "markdown",
      "source": [
        "Q2 - . Wap to show the use of different types of constructor"
      ],
      "metadata": {
        "id": "agLhjvBy412S"
      }
    },
    {
      "cell_type": "code",
      "source": [
        "# A parameterized constructor is one which has a predefined value and a non parameterized constructor is one which has no value assigned to it.\n",
        "print('Yuthika Khedwal\\n1906150\\n')\n",
        "print('Non-Parameterized constructor\\n')\n",
        "class np_constructor:\n",
        "  def __init__(self):\n",
        "    self.roll=0\n",
        "    self.name='NIL'\n",
        "\n",
        "  def display(self):\n",
        "    print(\"Name :\",self.name)\n",
        "    print(\"Roll :\",self.roll)\n",
        "\n",
        "obj=np_constructor()\n",
        "obj.display()\n",
        "\n",
        "print('\\nParameterized constructor\\n')\n",
        "\n",
        "class test:\n",
        "  def __init__(self,r,n):\n",
        "    self.roll=r\n",
        "    self.name=n\n",
        "\n",
        "  def display(self):\n",
        "    print(\"Name -\",self.name)\n",
        "    print(\"Roll -\",self.roll)\n",
        "\n",
        "print(\"For object 1:\")\n",
        "roll = int(input(\"Enter roll number: \"))\n",
        "name = input(\"Enter name: \")\n",
        "obj1 = test(roll, name)\n",
        "print(\"For object 2:\")\n",
        "roll = int(input(\"Enter roll number: \"))\n",
        "name = input(\"Enter name: \")\n",
        "obj2 = test(roll, name)\n",
        "\n",
        "obj1.display()\n",
        "obj2.display()\n"
      ],
      "metadata": {
        "colab": {
          "base_uri": "https://localhost:8080/"
        },
        "id": "H94HLTCcjR1W",
        "outputId": "9af10fd1-3f41-4022-e80c-498eb2612ac9"
      },
      "execution_count": 10,
      "outputs": [
        {
          "output_type": "stream",
          "name": "stdout",
          "text": [
            "Yuthika Khedwal\n",
            "1906150\n",
            "\n",
            "Non-Parameterized constructor\n",
            "\n",
            "Name : NIL\n",
            "Roll : 0\n",
            "\n",
            "Parameterized constructor\n",
            "\n",
            "For object 1:\n",
            "Enter roll number: 150\n",
            "Enter name: Yuthika\n",
            "For object 2:\n",
            "Enter roll number: 2\n",
            "Enter name: Pragati\n",
            "Name - Yuthika\n",
            "Roll - 150\n",
            "Name - Pragati\n",
            "Roll - 2\n"
          ]
        }
      ]
    },
    {
      "cell_type": "markdown",
      "source": [
        "Q3 - WAP to display the grade sheet of the student with the following member function :\n",
        "\n",
        "i Personnel details( Name, Roll, Regd no, semester)\n",
        "\n",
        "ii. Subject details(Course number, course name, credit, marks(out of 100) )\n",
        "\n",
        "iii. Compute_function(Grade , credit index ,SGPA, CGPA )\n",
        "\n",
        "iv. display_report()"
      ],
      "metadata": {
        "id": "0Qq9qSLInga8"
      }
    },
    {
      "cell_type": "code",
      "source": [
        "print('Yuthika Khedwal\\n1906150\\n')\n",
        "class details:    \n",
        "    def __init__(self): \n",
        "        print(\"Details\")\n",
        "    def personalDetails(self,name, roll, regd, semester) :\n",
        "        self.name=name\n",
        "        self.roll=roll\n",
        "        self.regd=regd\n",
        "        self.semester=semester\n",
        "    def Subject_details(self,Course_number, course_name, credit, marks ):\n",
        "        self.Course_number=Course_number\n",
        "        self.course_name=course_name\n",
        "        self.credit=credit\n",
        "        self.marks= marks\n",
        "    def Compute_function(self,Grade , credit_index ,SGPA, CGPA ):\n",
        "        self.Grade=Grade\n",
        "        self.credit_index=credit_index\n",
        "        self.SGPA=SGPA \n",
        "        self.CGPA=CGPA \n",
        "    def show(self):\n",
        "        print(\"Personnel details\")\n",
        "        print(self.name,self.roll, self.regd, self.semester)\n",
        "        print(\"Subject details\")\n",
        "        print(self.Course_number, self.course_name, self.credit, self.marks)\n",
        "        print(\"Grades\")\n",
        "        print(self.Grade , self.credit_index ,self.SGPA, self.CGPA)\n",
        "\n",
        "s1 = details()  \n",
        "s1.personalDetails(\"Y\",85,679,7)\n",
        "s1.Subject_details(1023,\"DA\",4,90)\n",
        "s1.Compute_function(\"O\",678,9.5,9.0)\n",
        "s1.show()"
      ],
      "metadata": {
        "colab": {
          "base_uri": "https://localhost:8080/"
        },
        "id": "FFV2-R9XjVef",
        "outputId": "aad8e41f-19ba-4e45-b0aa-951e8327fb2a"
      },
      "execution_count": 16,
      "outputs": [
        {
          "output_type": "stream",
          "name": "stdout",
          "text": [
            "Yuthika Khedwal\n",
            "1906150\n",
            "\n",
            "Details\n",
            "Personnel details\n",
            "Y 85 679 7\n",
            "Subject details\n",
            "1023 DA 4 90\n",
            "Grades\n",
            "O 678 9.5 9.0\n"
          ]
        }
      ]
    },
    {
      "cell_type": "markdown",
      "source": [
        "Write a Rectangle class in Python language, allowing you to build a rectangle with length and width attributes."
      ],
      "metadata": {
        "id": "PqKa5LpLwgZj"
      }
    },
    {
      "cell_type": "code",
      "source": [
        "print('Yuthika Khedwal\\n1906150\\n')\n",
        "class Rectangle:\n",
        "  def __init__(self, length, width):\n",
        "    self.length = length\n",
        "    self.width = width\n",
        "  \n",
        "  def compute_area(self):\n",
        "    return self.length * self.width\n",
        "  \n",
        "  def compute_perimeter(self):\n",
        "    return 2 * (self.length+self.width)\n",
        "\n",
        "  def display(self):\n",
        "    print(\"length:\",self.length)\n",
        "    print(\"width:\",self.width)\n",
        "    print(\"perimeter:\",2 * (self.length+self.width))\n",
        "    print(\"Area\",self.length * self.width)\n",
        "\n",
        "l= float(input('Enter the Length: '))\n",
        "w= float(input('Enter the Width: '))\n",
        "    \n",
        "object1 = Rectangle(l,w)\n",
        "area = object1.compute_area()\n",
        "print(\"Area of Rectangle object = %.2f\" %area)"
      ],
      "metadata": {
        "colab": {
          "base_uri": "https://localhost:8080/"
        },
        "id": "2cfeASARvg0S",
        "outputId": "d21af7ed-bfc1-4aee-db31-a7b2d702cdf7"
      },
      "execution_count": 11,
      "outputs": [
        {
          "output_type": "stream",
          "name": "stdout",
          "text": [
            "Yuthika Khedwal\n",
            "1906150\n",
            "\n",
            "Enter the Length: 10\n",
            "Enter the Width: 20\n",
            "Area of Rectangle object = 200.00\n"
          ]
        }
      ]
    },
    {
      "cell_type": "markdown",
      "source": [
        "Create a Perimeter() method to calculate the perimeter of the rectangle and a Area() method to calculate the area of the rectangle."
      ],
      "metadata": {
        "id": "TXRZ3h5Xwfh5"
      }
    },
    {
      "cell_type": "code",
      "source": [
        "print('Yuthika Khedwal\\n1906150\\n')\n",
        "perimeter = object1.compute_perimeter()\n",
        "print(\"Perimeter of Rectangle object= %.2f\" %perimeter)"
      ],
      "metadata": {
        "colab": {
          "base_uri": "https://localhost:8080/"
        },
        "id": "T1DXvtFUviAE",
        "outputId": "307644f8-2865-4d24-e601-ee92a97728a1"
      },
      "execution_count": 12,
      "outputs": [
        {
          "output_type": "stream",
          "name": "stdout",
          "text": [
            "Yuthika Khedwal\n",
            "1906150\n",
            "\n",
            "Perimeter of Rectangle object= 60.00\n"
          ]
        }
      ]
    },
    {
      "cell_type": "markdown",
      "source": [
        "Create a method display() that display the length, width, perimeter and area of an object created using an instantiation on rectangle class."
      ],
      "metadata": {
        "id": "35kiHGxIwej8"
      }
    },
    {
      "cell_type": "code",
      "source": [
        "print('Yuthika Khedwal\\n1906150\\n')\n",
        "object1.display()"
      ],
      "metadata": {
        "colab": {
          "base_uri": "https://localhost:8080/"
        },
        "id": "XGxxDTUDvhqE",
        "outputId": "2ab15d34-fcc1-43d9-aac1-924dcbedff92"
      },
      "execution_count": 13,
      "outputs": [
        {
          "output_type": "stream",
          "name": "stdout",
          "text": [
            "Yuthika Khedwal\n",
            "1906150\n",
            "\n",
            "length: 10.0\n",
            "width: 20.0\n",
            "perimeter: 60.0\n",
            "Area 200.0\n"
          ]
        }
      ]
    },
    {
      "cell_type": "markdown",
      "source": [
        "Define a Book class with the following attributes: Title, Author (Full name), Price. Define a constructor used to initialize the attributes of the method with values entered by the user."
      ],
      "metadata": {
        "id": "vVama7fmwc0v"
      }
    },
    {
      "cell_type": "code",
      "source": [
        "print('Yuthika Khedwal\\n1906150\\n')\n",
        "class BOOK:\n",
        "    def __init__(self, title, author,price):\n",
        "         self.title = title\n",
        "         self.author= author\n",
        "         self.price= price\n",
        "\n",
        "    def display(self):\n",
        "        print(\"length:\",self.title)\n",
        "        print(\"width:\",self.author)\n",
        "        print(\"perimeter:\",self.price)\n",
        "        \n",
        "a= input('Please Enter the title: ')\n",
        "b= input('Please Enter the Author: ')\n",
        "l= float(input('Please Enter the price: '))\n",
        "\n",
        "object1 = BOOK(a,b,l)\n",
        "object1.display()"
      ],
      "metadata": {
        "colab": {
          "base_uri": "https://localhost:8080/"
        },
        "id": "DFWCPsgCvhSU",
        "outputId": "d0a2cf0b-6508-49a1-a7a8-be05097e4015"
      },
      "execution_count": 14,
      "outputs": [
        {
          "output_type": "stream",
          "name": "stdout",
          "text": [
            "Yuthika Khedwal\n",
            "1906150\n",
            "\n",
            "Please Enter the title: Book1\n",
            "Please Enter the Author: A1\n",
            "Please Enter the price: 10000\n",
            "length: Book1\n",
            "width: A1\n",
            "perimeter: 10000.0\n"
          ]
        }
      ]
    },
    {
      "cell_type": "markdown",
      "source": [
        "Q6. Create a Python class called BankAccount which represents a bank account, having as attributes: \n",
        "accountNumber (numeric type), name (name of the account owner as string type), balance.\n",
        "\n",
        "Create a constructor with parameters: accountNumber, name, balance.\n",
        "\n",
        "Create a Deposit() method which manages the deposit actions.\n",
        "\n",
        "Create a Withdrawal() method which manages withdrawals actions.\n",
        "\n",
        "Create an bankFees() method to apply the bank fees with a percentage of 5% of the balance account.\n",
        "\n",
        "Create a display() method to display account details.\n",
        "\n",
        "Give the complete code for the BankAccount class."
      ],
      "metadata": {
        "id": "iUhhh8ofxU42"
      }
    },
    {
      "cell_type": "code",
      "source": [
        "print('Yuthika Khedwal\\n1906150\\n')\n",
        "class BankAccount:\n",
        "  def __init__(self,acc_n,acc_name,acc_bal):\n",
        "    self.accountNumber=acc_n\n",
        "    self.name=acc_name\n",
        "    self.balance=acc_bal\n",
        "  def deposit(self):\n",
        "    bal=int(input(\"Enter amount to deposit : \"))\n",
        "    self.balance=self.balance+bal;\n",
        "  def withdrawal(self):\n",
        "    wth=int(input(\"Enter the amount to withdraw : \"))\n",
        "    self.balance=self.balance-wth\n",
        "  def bankFees(self):\n",
        "    fee=(self.balance*5)/100\n",
        "    self.balance=self.balance-fee\n",
        "  def display(self):\n",
        "    print(f\"Bank Account Number is: {self.accountNumber}\")\n",
        "    print(f\"Name of account holder is:{self.name}\")\n",
        "    print(f\"Balance of account is: {self.balance}\")\n",
        "acc_n=int(input(\"Enter the account number : \"))\n",
        "acc_name=input(\"Enter the name of account holder : \")\n",
        "acc_balance=int(input(\"Enter the current balance : \"))\n",
        "ob1=BankAccount(acc_n,acc_name,acc_balance)\n",
        "ob1.deposit()\n",
        "ob1.withdrawal()\n",
        "ob1.bankFees()\n",
        "ob1.display()"
      ],
      "metadata": {
        "colab": {
          "base_uri": "https://localhost:8080/"
        },
        "id": "Ilyu71vrxfEd",
        "outputId": "58d556c3-cd24-49cb-9c1b-6a8208bf3d71"
      },
      "execution_count": 15,
      "outputs": [
        {
          "output_type": "stream",
          "name": "stdout",
          "text": [
            "Yuthika Khedwal\n",
            "1906150\n",
            "\n",
            "Enter the account number : 1906150\n",
            "Enter the name of account holder : Yuthika\n",
            "Enter the current balance : 100000000\n",
            "Enter amount to deposit : 1000\n",
            "Enter the amount to withdraw : 10\n",
            "Bank Account Number is: 1906150\n",
            "Name of account holder is:Yuthika\n",
            "Balance of account is: 95000940.5\n"
          ]
        }
      ]
    }
  ]
}