{
  "nbformat": 4,
  "nbformat_minor": 0,
  "metadata": {
    "colab": {
      "name": "T&TLAB4.ipynb",
      "provenance": [],
      "authorship_tag": "ABX9TyNA77bZOkOpRb39XKwFuKiN",
      "include_colab_link": true
    },
    "kernelspec": {
      "name": "python3",
      "display_name": "Python 3"
    },
    "language_info": {
      "name": "python"
    }
  },
  "cells": [
    {
      "cell_type": "markdown",
      "metadata": {
        "id": "view-in-github",
        "colab_type": "text"
      },
      "source": [
        "<a href=\"https://colab.research.google.com/github/YuthikaKhedwal/python/blob/main/T%26TLAB4.ipynb\" target=\"_parent\"><img src=\"https://colab.research.google.com/assets/colab-badge.svg\" alt=\"Open In Colab\"/></a>"
      ]
    },
    {
      "cell_type": "code",
      "execution_count": 40,
      "metadata": {
        "colab": {
          "base_uri": "https://localhost:8080/"
        },
        "id": "8P6BOSAwOgvz",
        "outputId": "c9bf7eac-6931-4a22-de81-7c6d80e3623f"
      },
      "outputs": [
        {
          "output_type": "stream",
          "name": "stdout",
          "text": [
            "[[9 9 9 7]\n",
            " [9 8 4 8]\n",
            " [6 7 9 8]\n",
            " [5 3 1 7]]\n"
          ]
        }
      ],
      "source": [
        "import numpy as np\n",
        "a=np.random.randint(1,10,size=(4,4))\n",
        "print(a)"
      ]
    },
    {
      "cell_type": "code",
      "source": [
        "for i in range(len(a)):\n",
        "   for j in range(len(a[i])):\n",
        "     if(a[i][j]>=1 and a[i][j]<=5):\n",
        "      a[i][j]=0\n",
        "print(a)"
      ],
      "metadata": {
        "colab": {
          "base_uri": "https://localhost:8080/"
        },
        "id": "tQ5G0zGQRg0Z",
        "outputId": "2b1e4bfa-36bc-47ab-ffcb-28e9875e8f0f"
      },
      "execution_count": 41,
      "outputs": [
        {
          "output_type": "stream",
          "name": "stdout",
          "text": [
            "[[9 9 9 7]\n",
            " [9 8 0 8]\n",
            " [6 7 9 8]\n",
            " [0 0 0 7]]\n"
          ]
        }
      ]
    },
    {
      "cell_type": "code",
      "source": [
        "c=0\n",
        "for i in range(0,4):\n",
        "  for j in range(0,4):\n",
        "    if(a[i][j]==0):\n",
        "      c=c+1\n",
        "\n",
        "if(c>((4*4)//2)):\n",
        "    print(\"sparse matrix\")\n",
        "else:\n",
        "    print(\"not a sparse matrix\")"
      ],
      "metadata": {
        "colab": {
          "base_uri": "https://localhost:8080/"
        },
        "id": "2GFxfeqWVcgI",
        "outputId": "e7c31713-1771-4003-c10b-15527f356c98"
      },
      "execution_count": 42,
      "outputs": [
        {
          "output_type": "stream",
          "name": "stdout",
          "text": [
            "not a sparse matrix\n"
          ]
        }
      ]
    },
    {
      "cell_type": "code",
      "source": [
        "import numpy as np\n",
        "import random \n",
        "list=[]\n",
        "for i in range(1,201):\n",
        "  r=random.randint(1,50)\n",
        "  list.append(r)\n",
        "print(list)\n",
        "import csv\n",
        "with open('1906150.csv','a') as f:\n",
        "    writer = csv.writer(f)\n",
        "    writer.writerow(list)"
      ],
      "metadata": {
        "colab": {
          "base_uri": "https://localhost:8080/"
        },
        "id": "WNOsIExKYUHg",
        "outputId": "7fd0254e-52dc-4704-de60-bbd32916f041"
      },
      "execution_count": 55,
      "outputs": [
        {
          "output_type": "stream",
          "name": "stdout",
          "text": [
            "[28, 47, 30, 17, 14, 11, 25, 10, 15, 4, 27, 43, 12, 31, 12, 30, 14, 19, 11, 20, 10, 8, 44, 37, 34, 41, 5, 37, 33, 16, 46, 20, 40, 33, 30, 36, 7, 9, 48, 29, 30, 22, 24, 25, 36, 21, 23, 24, 29, 48, 49, 43, 37, 22, 27, 12, 41, 49, 1, 34, 43, 24, 12, 28, 32, 48, 26, 4, 18, 25, 49, 14, 25, 11, 46, 9, 30, 5, 40, 26, 43, 22, 13, 11, 36, 16, 15, 22, 48, 1, 23, 46, 12, 41, 33, 24, 13, 31, 44, 5, 15, 29, 18, 5, 32, 38, 13, 50, 23, 48, 7, 19, 23, 10, 47, 40, 10, 36, 28, 39, 1, 33, 40, 39, 7, 26, 50, 2, 5, 6, 32, 34, 3, 24, 16, 46, 50, 33, 38, 11, 20, 26, 8, 24, 39, 14, 44, 42, 1, 12, 28, 6, 17, 38, 7, 17, 8, 20, 5, 21, 32, 35, 49, 20, 28, 49, 29, 26, 3, 47, 21, 6, 33, 12, 16, 23, 34, 38, 46, 31, 6, 39, 2, 47, 21, 34, 6, 28, 24, 41, 24, 43, 44, 48, 14, 1, 28, 23, 49, 20]\n"
          ]
        }
      ]
    },
    {
      "cell_type": "code",
      "source": [
        "import numpy as np\n",
        "import matplotlib.pyplot as plt\n",
        "import pandas as pd\n",
        "from google.colab import files\n",
        "import pandas as pd\n",
        "uploaded = files.upload()"
      ],
      "metadata": {
        "colab": {
          "resources": {
            "http://localhost:8080/nbextensions/google.colab/files.js": {
              "data": "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",
              "ok": true,
              "headers": [
                [
                  "content-type",
                  "application/javascript"
                ]
              ],
              "status": 200,
              "status_text": ""
            }
          },
          "base_uri": "https://localhost:8080/",
          "height": 73
        },
        "id": "s5r-2GWgeUUg",
        "outputId": "2b5b2f21-6f37-4037-f356-94f50b48c119"
      },
      "execution_count": 38,
      "outputs": [
        {
          "output_type": "display_data",
          "data": {
            "text/html": [
              "\n",
              "     <input type=\"file\" id=\"files-e495ac1e-5f7c-4c18-b6ab-86241353f7ba\" name=\"files[]\" multiple disabled\n",
              "        style=\"border:none\" />\n",
              "     <output id=\"result-e495ac1e-5f7c-4c18-b6ab-86241353f7ba\">\n",
              "      Upload widget is only available when the cell has been executed in the\n",
              "      current browser session. Please rerun this cell to enable.\n",
              "      </output>\n",
              "      <script src=\"/nbextensions/google.colab/files.js\"></script> "
            ],
            "text/plain": [
              "<IPython.core.display.HTML object>"
            ]
          },
          "metadata": {}
        },
        {
          "output_type": "stream",
          "name": "stdout",
          "text": [
            "Saving example.csv.csv to example.csv.csv\n"
          ]
        }
      ]
    },
    {
      "cell_type": "code",
      "source": [
        "def estimate_coef(x,y):\n",
        "   n=np.size(x)\n",
        "   m_x=np.mean(x)\n",
        "   m_y=np.mean(y)\n",
        "   SS_xy=np.sum(y*x)-n*m_y*m_x\n",
        "   SS_xx=np.sum(x*x)-n*m_x*m_x\n",
        "   b_1=SS_xy/SS_xx\n",
        "   b_0=m_y-b_1*m_x\n",
        "   return (b_0,b_1)\n",
        "def plot_regression_line(x,y,b):\n",
        "    plt.scatter(x, y, color = \"red\",marker = \"o\", s = 30)\n",
        "    y_pred = b[0] + b[1]*x\n",
        "    plt.plot(x, y_pred, color = \"black\")\n",
        "    plt.xlabel('x')\n",
        "    plt.ylabel('y')\n",
        "    plt.show()\n",
        "    print(\"Predicted values are: \")\n",
        "    print(y_pred)\n",
        "def main():\n",
        "   x1=[]\n",
        "   y1=[]\n",
        "   col_list=[\"x\",\"y\"]\n",
        "   df=pd.read_csv(\"example.csv.csv\",usecols=col_list)\n",
        "   x1=df[\"x\"].values.tolist()\n",
        "   y1=df[\"y\"].values.tolist()\n",
        "   x=np.array(x1)\n",
        "   y=np.array(y1)\n",
        "   b=estimate_coef(x,y)\n",
        "   print(\"Estimated coefficients:\\nb_0 = {}  \\ \\nb_1 = {}\".format(b[0], b[1]))\n",
        "   plot_regression_line(x,y,b)\n",
        "if __name__ == \"__main__\":\n",
        "    main()\n"
      ],
      "metadata": {
        "colab": {
          "base_uri": "https://localhost:8080/",
          "height": 1000
        },
        "id": "TYZOvICwer47",
        "outputId": "c585c5f2-0682-4525-962e-ef0eabe5a1b5"
      },
      "execution_count": 52,
      "outputs": [
        {
          "output_type": "stream",
          "name": "stdout",
          "text": [
            "Estimated coefficients:\n",
            "b_0 = -0.4618107736611847  \\ \n",
            "b_1 = 1.014335355119518\n"
          ]
        },
        {
          "output_type": "display_data",
          "data": {
            "image/png": "[encoded data removed]",
            "text/plain": [
              "<Figure size 432x288 with 1 Axes>"
            ]
          },
          "metadata": {
            "needs_background": "light"
          }
        },
        {
          "output_type": "stream",
          "name": "stdout",
          "text": [
            "Predicted values are: \n",
            "[ 77.64201157  20.83923168  21.85356704  19.82489633  36.05426201\n",
            "  14.75321955  62.42698124  95.90004796  19.82489633   4.609866\n",
            "   3.59553065  18.81056097  96.91438332  62.42698124  36.05426201\n",
            "  14.75321955  65.46998731  13.7388842   87.78536512  69.52732873\n",
            "  89.81403583  51.26929234  89.81403583  26.92524381  97.92871867\n",
            "  58.36963982  79.67068228  20.83923168  93.87137725  26.92524381\n",
            "  99.95738938  30.98258524  33.01125595  80.68501764  27.93957917\n",
            "  47.21195092  53.29796305  69.52732873  27.93957917  33.01125595\n",
            "  91.84270654  71.55599944  50.25495698  76.62767622   3.59553065\n",
            "  37.06859737  70.54166408  68.51299337  40.11160343  35.03992666\n",
            "  94.88571261  88.79970048  52.28362769  30.98258524  59.38397518\n",
            "  -0.46181077  39.09726808  64.45565195  69.52732873  57.35530447\n",
            "  12.72454884  72.57033479  76.62767622  61.41264589  82.71368835\n",
            "  17.79622562  41.12593879  50.25495698  55.32663376  12.72454884\n",
            "  46.19761556  12.72454884  79.67068228  53.29796305  14.75321955\n",
            "  27.93957917  81.69935299  69.52732873  52.28362769  84.74235906\n",
            "  68.51299337  26.92524381  56.34096911  48.22628627  40.11160343\n",
            "  39.09726808  82.71368835 100.97172474  59.38397518  43.1546095\n",
            "  67.49865802  38.08293272  63.4413166   91.84270654  60.39831053\n",
            "  13.7388842   20.83923168  87.78536512  73.58467015  31.99692059\n",
            "   1.56685994  82.71368835  18.81056097  74.59900551  42.14027414\n",
            "  11.71021349   0.55252458  90.82837119  89.81403583  -0.46181077\n",
            "  41.12593879  15.76755491  94.88571261  97.92871867  66.48432266\n",
            "  23.88223775  16.78189026  90.82837119  12.72454884  -0.46181077\n",
            "  64.45565195  96.91438332  98.94305403  11.71021349  41.12593879\n",
            "  47.21195092  78.65634693  19.82489633  89.81403583  28.95391452\n",
            "  64.45565195  75.61334086  11.71021349  24.8965731   27.93957917\n",
            "  29.96824988  65.46998731  59.38397518  64.45565195  53.29796305\n",
            "  71.55599944  97.92871867  73.58467015   8.66720742  11.71021349\n",
            "  63.4413166   99.95738938  60.39831053  35.03992666   1.56685994\n",
            "  60.39831053  31.99692059  94.88571261  84.74235906  63.4413166\n",
            "  21.85356704  81.69935299  93.87137725  33.01125595   6.63853671\n",
            "  42.14027414  46.19761556  54.3122984   15.76755491  49.24062163\n",
            "  43.1546095   95.90004796  66.48432266  20.83923168  35.03992666\n",
            "  80.68501764  37.06859737  54.3122984   56.34096911   0.55252458\n",
            "  31.99692059  58.36963982  31.99692059  46.19761556  72.57033479\n",
            "  16.78189026  97.92871867  93.87137725  91.84270654  37.06859737\n",
            "   3.59553065  54.3122984   51.26929234  26.92524381  46.19761556\n",
            "  92.8570419   73.58467015  77.64201157  91.84270654  61.41264589\n",
            "  99.95738938   3.59553065  72.57033479  18.81056097  57.35530447\n",
            "  78.65634693  25.91090846  74.59900551  90.82837119  66.48432266\n",
            "  12.72454884  40.11160343  77.64201157  67.49865802  75.61334086\n",
            "  22.86790239  45.18328021  59.38397518  44.16894485  22.86790239\n",
            "  55.32663376  55.32663376  95.90004796  11.71021349   3.59553065\n",
            "   6.63853671 100.97172474  48.22628627  42.14027414  96.91438332\n",
            "  39.09726808 100.97172474  87.78536512  13.7388842   13.7388842\n",
            "  37.06859737   4.609866    88.79970048  91.84270654  65.46998731\n",
            "  74.59900551  56.34096911  15.76755491   4.609866    27.93957917\n",
            "  92.8570419   46.19761556  54.3122984   39.09726808  44.16894485\n",
            "  30.98258524  68.51299337  86.77102977  90.82837119  38.08293272\n",
            "  20.83923168  95.90004796  56.34096911  60.39831053  65.46998731\n",
            "  78.65634693  89.81403583   5.62420136  67.49865802  36.05426201\n",
            "  15.76755491 100.97172474  45.18328021  73.58467015  57.35530447\n",
            "  19.82489633  76.62767622  34.0255913   55.32663376  72.57033479\n",
            "  55.32663376   7.65287207  56.34096911  72.57033479  58.36963982\n",
            "   5.62420136  96.91438332  22.86790239  58.36963982  22.86790239\n",
            "  18.81056097  24.8965731   64.45565195  20.83923168  59.38397518\n",
            "  18.81056097  15.76755491  42.14027414  43.1546095   61.41264589\n",
            "  92.8570419   10.69587813  41.12593879   0.55252458   7.65287207\n",
            "  71.55599944  46.19761556  55.32663376  62.42698124  47.21195092]\n"
          ]
        }
      ]
    },
    {
      "cell_type": "code",
      "source": [
        "import numpy as np\n",
        "print(\"Yuthika Khedwal,1906150\")\n",
        "m=int(input(\"enter val of m\"))\n",
        "n=int(input(\"enter val of n\"))\n",
        "mat1=np.random.randint(1,10,(m,n))\n",
        "new_mat1 = np.where(mat1 <= 5, 0, mat1)\n",
        "print (mat1)\n",
        "zero=new_mat1[np.where(new_mat1 == 0)].size\n",
        "non_zero=new_mat1[np.where(new_mat1 != 0)].size\n",
        "print(f\"Number of Zeroes in Matrix --> {new_mat1[np.where(new_mat1 == 0)].size}\")\n",
        "print(f\"Number of NON-Zeroes in Matrix --> {new_mat1[np.where(new_mat1 != 0)].size}\")\n",
        "if(zero>non_zero):\n",
        "    print(\"SPARSE MATRIX\")\n",
        "else:\n",
        "    print(\"NOT SPARSE\")\n",
        "print(m*n%9)\n",
        "print(mat1)"
      ],
      "metadata": {
        "colab": {
          "base_uri": "https://localhost:8080/"
        },
        "id": "ojPxiqcGjfyZ",
        "outputId": "2330617a-54eb-4c84-8a13-6b69e3a78f7e"
      },
      "execution_count": 54,
      "outputs": [
        {
          "output_type": "stream",
          "name": "stdout",
          "text": [
            "Yuthika Khedwal,1906150\n",
            "enter val of m4\n",
            "enter val of n4\n",
            "[[6 4 6 9]\n",
            " [8 5 4 3]\n",
            " [3 8 7 8]\n",
            " [9 3 3 5]]\n",
            "Number of Zeroes in Matrix --> 8\n",
            "Number of NON-Zeroes in Matrix --> 8\n",
            "NOT SPARSE\n",
            "7\n",
            "[[6 4 6 9]\n",
            " [8 5 4 3]\n",
            " [3 8 7 8]\n",
            " [9 3 3 5]]\n"
          ]
        }
      ]
    }
  ]
}