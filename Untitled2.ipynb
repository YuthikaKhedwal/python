{
  "nbformat": 4,
  "nbformat_minor": 0,
  "metadata": {
    "colab": {
      "name": "Untitled2.ipynb",
      "provenance": [],
      "authorship_tag": "ABX9TyM601RC16q4YR87zRVPOPxA",
      "include_colab_link": true
    },
    "kernelspec": {
      "name": "python3",
      "display_name": "Python 3"
    },
    "language_info": {
      "name": "python"
    }
  },
  "cells": [
    {
      "cell_type": "markdown",
      "metadata": {
        "id": "view-in-github",
        "colab_type": "text"
      },
      "source": [
        "<a href=\"https://colab.research.google.com/github/YuthikaKhedwal/python/blob/main/Untitled2.ipynb\" target=\"_parent\"><img src=\"https://colab.research.google.com/assets/colab-badge.svg\" alt=\"Open In Colab\"/></a>"
      ]
    },
    {
      "cell_type": "markdown",
      "source": [
        "Q1. Write a Pandas program to get the powers of an array values element-wise. Sample data: {'X':[78,85,96,80,86], 'Y':[84,94,89,83,86],'Z':[86,97,96,72,83]}\n",
        "\n",
        "Expected Output:\n",
        "\n",
        "X Y Z\n",
        "\n",
        "0 78 84 86\n",
        "\n",
        "1 85 94 97\n",
        "\n",
        "2 96 89 96\n",
        "\n",
        "3 80 83 72\n",
        "\n",
        "4 86 86 83"
      ],
      "metadata": {
        "id": "95AbxxcotwXP"
      }
    },
    {
      "cell_type": "code",
      "execution_count": 1,
      "metadata": {
        "colab": {
          "base_uri": "https://localhost:8080/"
        },
        "id": "yKouELfdtmNc",
        "outputId": "41e03928-00d9-4eb5-a122-cfd01a6ed5cb"
      },
      "outputs": [
        {
          "output_type": "stream",
          "name": "stdout",
          "text": [
            "1906150\n",
            "Yuthika Khedwal\n",
            "    X   Y   Z\n",
            "0  78  84  86\n",
            "1  85  94  97\n",
            "2  96  89  96\n",
            "3  80  83  72\n",
            "4  86  86  83\n"
          ]
        }
      ],
      "source": [
        "print(\"1906150\")\n",
        "print(\"Yuthika Khedwal\")\n",
        "import pandas as pd\n",
        "df = pd.DataFrame({'X':[78,85,96,80,86], 'Y':[84,94,89,83,86],'Z':[86,97,96,72,83]});\n",
        "print(df)"
      ]
    },
    {
      "cell_type": "markdown",
      "source": [
        ""
      ],
      "metadata": {
        "id": "KfnFH84HuCbu"
      }
    },
    {
      "cell_type": "markdown",
      "source": [
        "Q2.data frame\n",
        "\n",
        "exam_data = {&#39;name&#39;: [&#39;Anastasia&#39;, &#39;Dima&#39;, &#39;Katherine&#39;, &#39;James&#39;, &#39;Emily&#39;, &#39;Michael&#39;, &#39;Matthew&#39;, &#39;Laura&#39;,\n",
        "&#39;Kevin&#39;, &#39;Jonas&#39;],\n",
        "\n",
        "&#39;score&#39;: [12.5, 9, 16.5, np.nan, 9, 20, 14.5, np.nan, 8, 19],\n",
        "\n",
        "&#39;attempts&#39;: [1, 3, 2, 3, 2, 3, 1, 1, 2, 1],\n",
        "\n",
        "&#39;qualify&#39;: [&#39;yes&#39;, &#39;no&#39;, &#39;yes&#39;, &#39;no&#39;, &#39;no&#39;, &#39;yes&#39;, &#39;yes&#39;, &#39;no&#39;, &#39;no&#39;, &#39;yes&#39;]}\n",
        "\n",
        "labels = [&#39;a&#39;, &#39;b&#39;, &#39;c&#39;, &#39;d&#39;, &#39;e&#39;, &#39;f&#39;, &#39;g&#39;, &#39;h&#39;, &#39;i&#39;, &#39;j&#39;]\n",
        "\n",
        "Expected Output:\n",
        "\n",
        "attempts name qualify score\n",
        "\n",
        "a 1 Anastasia yes 12.5\n",
        "\n",
        "b 3 Dima no 9.0\n",
        "\n",
        ".... i 2 Kevin no 8.0\n",
        "\n",
        "j 1 Jonas yes 19.0index labels.\n",
        "\n",
        "Q2. Write a Pandas program to create and display a DataFrame from a specified dictionary data which has the Sample Python dictionary data and list labels:"
      ],
      "metadata": {
        "id": "kqrympvjgKmi"
      }
    },
    {
      "cell_type": "code",
      "source": [
        "print(\"1906150\")\n",
        "print(\"Yuthika Khedwal\")\n",
        "import pandas as pd\n",
        "import numpy as np\n",
        "\n",
        "exam_data  = {'name': ['Anastasia', 'Dima', 'Katherine', 'James', 'Emily', 'Michael', 'Matthew', 'Laura', 'Kevin', 'Jonas'],\n",
        "        'score': [12.5, 9, 16.5, np.nan, 9, 20, 14.5, np.nan, 8, 19],\n",
        "        'attempts': [1, 3, 2, 3, 2, 3, 1, 1, 2, 1],\n",
        "        'qualify': ['yes', 'no', 'yes', 'no', 'no', 'yes', 'yes', 'no', 'no', 'yes']}\n",
        "labels = ['a', 'b', 'c', 'd', 'e', 'f', 'g', 'h', 'i', 'j']\n",
        "\n",
        "df = pd.DataFrame(exam_data , index=labels)\n",
        "print(df)"
      ],
      "metadata": {
        "colab": {
          "base_uri": "https://localhost:8080/"
        },
        "id": "VL4ZaMmLuIr2",
        "outputId": "5dad28ac-3274-4ab6-f0cf-3f20fdee8e4f"
      },
      "execution_count": 2,
      "outputs": [
        {
          "output_type": "stream",
          "name": "stdout",
          "text": [
            "1906150\n",
            "Yuthika Khedwal\n",
            "        name  score  attempts qualify\n",
            "a  Anastasia   12.5         1     yes\n",
            "b       Dima    9.0         3      no\n",
            "c  Katherine   16.5         2     yes\n",
            "d      James    NaN         3      no\n",
            "e      Emily    9.0         2      no\n",
            "f    Michael   20.0         3     yes\n",
            "g    Matthew   14.5         1     yes\n",
            "h      Laura    NaN         1      no\n",
            "i      Kevin    8.0         2      no\n",
            "j      Jonas   19.0         1     yes\n"
          ]
        }
      ]
    },
    {
      "cell_type": "markdown",
      "source": [
        "Q3. Write a Pandas program to display a summary of the basic information about a specified DataFrame and its data."
      ],
      "metadata": {
        "id": "evTW50BRuTIB"
      }
    },
    {
      "cell_type": "code",
      "source": [
        "print(\"1906150\")\n",
        "print(\"Yuthika Khedwal\")\n",
        "print(\"Summary of the basic information about this DataFrame and its data:\")\n",
        "print(df.info())"
      ],
      "metadata": {
        "colab": {
          "base_uri": "https://localhost:8080/"
        },
        "id": "-nfFhN-FuXBp",
        "outputId": "1bb8f316-4065-4c7f-9312-5756138dacfc"
      },
      "execution_count": 3,
      "outputs": [
        {
          "output_type": "stream",
          "name": "stdout",
          "text": [
            "1906150\n",
            "Yuthika Khedwal\n",
            "Summary of the basic information about this DataFrame and its data:\n",
            "<class 'pandas.core.frame.DataFrame'>\n",
            "Index: 10 entries, a to j\n",
            "Data columns (total 4 columns):\n",
            " #   Column    Non-Null Count  Dtype  \n",
            "---  ------    --------------  -----  \n",
            " 0   name      10 non-null     object \n",
            " 1   score     8 non-null      float64\n",
            " 2   attempts  10 non-null     int64  \n",
            " 3   qualify   10 non-null     object \n",
            "dtypes: float64(1), int64(1), object(2)\n",
            "memory usage: 400.0+ bytes\n",
            "None\n"
          ]
        }
      ]
    },
    {
      "cell_type": "markdown",
      "source": [
        "Q4. Write a Pandas program to get the first 3 rows of a given DataFrame."
      ],
      "metadata": {
        "id": "yhcsG8gnudzE"
      }
    },
    {
      "cell_type": "code",
      "source": [
        "print(\"1906150\")\n",
        "print(\"Yuthika Khedwal\")\n",
        "print(\"First 3 rows:\")\n",
        "print(df.iloc[:3])"
      ],
      "metadata": {
        "colab": {
          "base_uri": "https://localhost:8080/"
        },
        "id": "ZxSqkKr-unP8",
        "outputId": "bd36a212-71ba-45f8-cfd4-8856347f76a1"
      },
      "execution_count": 4,
      "outputs": [
        {
          "output_type": "stream",
          "name": "stdout",
          "text": [
            "1906150\n",
            "Yuthika Khedwal\n",
            "First 3 rows:\n",
            "        name  score  attempts qualify\n",
            "a  Anastasia   12.5         1     yes\n",
            "b       Dima    9.0         3      no\n",
            "c  Katherine   16.5         2     yes\n"
          ]
        }
      ]
    },
    {
      "cell_type": "markdown",
      "source": [
        "Q5. i. WAP to demonstrate all types of inheritance.\n"
      ],
      "metadata": {
        "id": "34Iy0SxLut44"
      }
    },
    {
      "cell_type": "code",
      "source": [
        "print(\"1906150\")\n",
        "print(\"Yuthika Khedwal\")\n",
        "print(\"Single Inheritence\")  #When a child class inherits only a single parent class\n",
        "class Parent:\n",
        "     def func1(self):\n",
        "          print(\"Function - 1\")\n",
        "class Child0(Parent):\n",
        "     def func2(self):\n",
        "          print(\"Function - 2\")\n",
        "ob = Child0()\n",
        "ob.func1()\n",
        "ob.func2()\n",
        "print(\"_________________________________________________\")\n",
        "print(\"Multiple Inheritence\") #When a child class inherits from more than one parent class.\n",
        "class Parent1:\n",
        "   def func1(self):\n",
        "        print(\"Function - 1\")\n",
        "class Parent2:\n",
        "   def func2(self):\n",
        "        print(\"Function - 2\")\n",
        "class Child1(Parent1 , Parent2):\n",
        "    def func3(self):\n",
        "        print(\"Function - 3\")\n",
        " \n",
        "ob = Child1()\n",
        "ob.func1()\n",
        "ob.func2()\n",
        "ob.func3()\n",
        "print(\"_________________________________________________\") \n",
        "print(\"Multilevel Inheritence\") #When a child class becomes a parent class for another child class.\n",
        "class Parent:\n",
        "      def func1(self):\n",
        "          print(\"Function - 1\")\n",
        "class Child2(Parent):\n",
        "      def func2(self):\n",
        "          print(\"Function - 2\")\n",
        "class Child3(Child2):\n",
        "      def func3(self):\n",
        "        print(\"Function - 3\")\n",
        "\n",
        "ob = Child3()\n",
        "ob.func1()\n",
        "ob.func2()\n",
        "ob.func3()\n",
        "print(\"_________________________________________________\")"
      ],
      "metadata": {
        "colab": {
          "base_uri": "https://localhost:8080/"
        },
        "id": "WRnJ8B9c5Id1",
        "outputId": "4f76be24-ba18-4044-ae74-06382939d095"
      },
      "execution_count": 10,
      "outputs": [
        {
          "output_type": "stream",
          "name": "stdout",
          "text": [
            "1906150\n",
            "Yuthika Khedwal\n",
            "Single Inheritence\n",
            "Function - 1\n",
            "Function - 2\n",
            "_________________________________________________\n",
            "Multiple Inheritence\n",
            "Function - 1\n",
            "Function - 2\n",
            "Function - 3\n",
            "_________________________________________________\n",
            "Multilevel Inheritence\n",
            "Function - 1\n",
            "Function - 2\n",
            "Function - 3\n",
            "_________________________________________________\n"
          ]
        }
      ]
    },
    {
      "cell_type": "markdown",
      "source": [
        "ii. Create a class student which stores name, roll number and age of a student. Derive a class test from student class, which stores marks in 5 subjects. Input and display the details of a student.\n",
        "iii. Extend the program ii. to derive a class from result from classs ‘test’ which includes member function to calculate total marks and percentage of a student. Input the data for a student and display its total marks and percentage. \n",
        "iv. Extend the program ii. to include a class sports, which stores the marks in sports activity. Derive the result class from the classes ‘test’ and ‘sports’. Calculate the total marks and percentage of a student."
      ],
      "metadata": {
        "id": "P7bLUnIR6OMl"
      }
    },
    {
      "cell_type": "code",
      "source": [
        "print(\"1906150\")\n",
        "print(\"Yuthika Khedwal\")\n",
        "class Student:  \n",
        "    #defining constructor  \n",
        "    def __init__(self):  \n",
        "        self.name = input(\"Enter your name:\")\n",
        "        self.roll = int(input(\"Enter your roll number:\"))\n",
        "        self.age = int(input(\"Enter your age (in years):\"))\n",
        "\n",
        "class Test(Student): \n",
        "    def __init__(self):\n",
        "        Student.__init__(self)\n",
        "        self.m=[0,0,0,0,0]\n",
        "        print(\"Enter your marks out of 100, for 5 subjects:\")\n",
        "        self.sum=0\n",
        "        for i in range(5):\n",
        "          self.m[i] = int(input(\"Enter marks: \"))\n",
        "          self.sum += self.m[i]\n",
        "   \n",
        "class Sports(Student):\n",
        "    def __init__(self):\n",
        "      self.sportsmarks = int(input(\"Enter marks in sports: \"))\n",
        "\n",
        "class Result(Test, Sports):\n",
        "    def __init__(self):\n",
        "      Test.__init__(self)\n",
        "      Sports.__init__(self)\n",
        "      self.average = (self.sum+self.sportsmarks)/6\n",
        "\n",
        "    def displayresult(self):\n",
        "        print(\"Details -------------------------\")\n",
        "        print(\"Name:       \",self.name)\n",
        "        print(\"Roll Number:\",self.roll)\n",
        "        print(\"Age:        \",self.age)\n",
        "        print(\"Marks -------------------------\")\n",
        "        for i in range(5):\n",
        "          print(\"Subject\",i+1,\":  \",self.m[i])\n",
        "        print(\"Sports marks:\",self.sportsmarks)\n",
        "        print(\"RESULT -------------------------\")\n",
        "        print(\"Percentage obtained:\",self.average)\n",
        "\n",
        "# Create an object of the subclass\n",
        "student1 = Result()  \n",
        "student1.displayresult()"
      ],
      "metadata": {
        "colab": {
          "base_uri": "https://localhost:8080/"
        },
        "id": "VHoHuyfIvB2X",
        "outputId": "0dd2c4e4-f3f1-472f-a6e3-56779671fcd2"
      },
      "execution_count": 11,
      "outputs": [
        {
          "output_type": "stream",
          "name": "stdout",
          "text": [
            "1906150\n",
            "Yuthika Khedwal\n",
            "Enter your name:Yuthika\n",
            "Enter your roll number:1906150\n",
            "Enter your age (in years):21\n",
            "Enter your marks out of 100, for 5 subjects:\n",
            "Enter marks: 95\n",
            "Enter marks: 96\n",
            "Enter marks: 97\n",
            "Enter marks: 98\n",
            "Enter marks: 99\n",
            "Enter marks in sports: 100\n",
            "Details -------------------------\n",
            "Name:        Yuthika\n",
            "Roll Number: 1906150\n",
            "Age:         21\n",
            "Marks -------------------------\n",
            "Subject 1 :   95\n",
            "Subject 2 :   96\n",
            "Subject 3 :   97\n",
            "Subject 4 :   98\n",
            "Subject 5 :   99\n",
            "Sports marks: 100\n",
            "RESULT -------------------------\n",
            "Percentage obtained: 97.5\n"
          ]
        }
      ]
    },
    {
      "cell_type": "markdown",
      "source": [
        "v. Create a class ‘shape’. Derive three classes from it: Circle, Triangle and Rectangle. Include the relevant data members and functions in all the classes. Find the area of each shape and display it."
      ],
      "metadata": {
        "id": "_FecZVyy6icD"
      }
    },
    {
      "cell_type": "code",
      "source": [
        "print(\"1906150\")\n",
        "print(\"Yuthika Khedwal\")\n",
        "class shape:\n",
        "  def __init__(self):\n",
        "    self.t=0\n",
        "    self.c=0\n",
        "    self.r=0\n",
        "\n",
        "class circle(shape):\n",
        "  def __init__(self):\n",
        "    shape.__init__(self)\n",
        "    self.r=int(input(\"Enter the radius of the circle: \"))\n",
        "    print(3.14*(self.r**2))\n",
        "\n",
        "class triangle(shape):\n",
        "  def __init__(self):\n",
        "    self.b=int(input(\"Enter the base of the triangle: \"))\n",
        "    self.h=int(input(\"Enter the height of the triangle: \"))\n",
        "    print(0.5*self.b*self.h)\n",
        "\n",
        "class rectangle(shape):\n",
        "  def __init__(self):\n",
        "    self.l=int(input(\"Enter the length of the rectangle: \"))\n",
        "    self.w=int(input(\"Enter the width of the rectangle: \"))\n",
        "    print(self.l*self.w)\n",
        "\n",
        "ob=circle()\n",
        "ob=triangle()\n",
        "ob=rectangle()"
      ],
      "metadata": {
        "colab": {
          "base_uri": "https://localhost:8080/"
        },
        "id": "RiKll08J5STi",
        "outputId": "2eebd6d3-7e27-4c50-9002-20ba822befe3"
      },
      "execution_count": 13,
      "outputs": [
        {
          "output_type": "stream",
          "name": "stdout",
          "text": [
            "1906150\n",
            "Yuthika Khedwal\n",
            "Enter the radius of the circle: 4\n",
            "50.24\n",
            "Enter the base of the triangle: 3\n",
            "Enter the height of the triangle: 2\n",
            "3.0\n",
            "Enter the length of the rectangle: 3\n",
            "Enter the width of the rectangle: 4\n",
            "12\n"
          ]
        }
      ]
    },
    {
      "cell_type": "markdown",
      "source": [
        "vi. Create a class which stores employee name,id and salary Derive two classes from ‘Employee’ class:‘Regular’ and ‘Part-Time’. The ‘Regular’ class stores DA, HRA and basic salary. The ‘PartTime’ class stores\n",
        "the number of hours and pay per hour. Calculate the salary of a regular employee and a par-time employee.\n",
        "\n"
      ],
      "metadata": {
        "id": "PYvb6OJb7NeD"
      }
    },
    {
      "cell_type": "code",
      "source": [
        "print(\"1906150\")\n",
        "print(\"Yuthika Khedwal\")\n",
        "class regular:\n",
        "  def __init__(self):\n",
        "    print(\"REGULAR EMPLOYEE ----------\")\n",
        "    self.name=input(\"Enter the name of the employee: \")\n",
        "    self.id=input(\"Enter the I'd of the employee: \")\n",
        "    self.basic = int(input(\"Enter the basic of the employee: \"))\n",
        "\n",
        "class parttime:\n",
        "  def __init__(self):\n",
        "    print(\"PART-TIME EMPLOYEE ----------\")\n",
        "    self.name=input(\"Enter the name of the employee: \")\n",
        "    self.id=input(\"Enter the I'd of the employee: \")\n",
        "    self.pph = int(input(\"Enter the pay per hour of the employee: \"))\n",
        "    self.hour = int(input(\"Enter the hour of work of the employee: \"))\n",
        "\n",
        "class employee(regular,parttime):\n",
        "    def __init__ (self):\n",
        "      regular.__init__(self)\n",
        "      parttime.__init__(self)\n",
        "\n",
        "    def display(self):\n",
        "      print(\"Salary of regular employee per month =\",self.basic + 0.08*self.basic + 0.1*self.basic)\n",
        "      print(\"Salary of part-time employee of one day according to work hours =\",self.pph*self.hour)\n",
        "\n",
        "\n",
        "ob = employee()\n",
        "ob.display()"
      ],
      "metadata": {
        "colab": {
          "base_uri": "https://localhost:8080/"
        },
        "id": "STxJiV-T7Pa9",
        "outputId": "61430c26-618c-499f-9001-22b106fe5b02"
      },
      "execution_count": 14,
      "outputs": [
        {
          "output_type": "stream",
          "name": "stdout",
          "text": [
            "1906150\n",
            "Yuthika Khedwal\n",
            "REGULAR EMPLOYEE ----------\n",
            "Enter the name of the employee: Yuthika\n",
            "Enter the I'd of the employee: 1906150\n",
            "Enter the basic of the employee: 10000000\n",
            "PART-TIME EMPLOYEE ----------\n",
            "Enter the name of the employee: Satyajeet\n",
            "Enter the I'd of the employee: 1906130\n",
            "Enter the pay per hour of the employee: 200\n",
            "Enter the hour of work of the employee: 6\n",
            "Salary of regular employee per month = 11800000.0\n",
            "Salary of part-time employee of one day according to work hours = 1200\n"
          ]
        }
      ]
    },
    {
      "cell_type": "markdown",
      "source": [
        "vii. Create a class which stores account number, customer name and balance. Derive two classes from ‘Account’ class: ‘Savings’ and ‘Current’. The ‘Savings’ class stores minimum balance. The ‘Current’ class\n",
        "stores the over-due amount. Include member functions in the appropriate class for -deposit money-withdraw [For saving account minimum balance should be checked.] [For current account overdue amount should be calculated.] -display balance using python."
      ],
      "metadata": {
        "id": "2V7c1NWQ_ubG"
      }
    },
    {
      "cell_type": "code",
      "source": [
        "print(\"1906150\")\n",
        "print(\"Yuthika Khedwal\")"
      ],
      "metadata": {
        "id": "lgJoSFJs_zbp"
      },
      "execution_count": null,
      "outputs": []
    }
  ]
}