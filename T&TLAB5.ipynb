{
  "nbformat": 4,
  "nbformat_minor": 0,
  "metadata": {
    "colab": {
      "name": "T&TLAB5",
      "provenance": [],
      "authorship_tag": "ABX9TyMyiLhq95SSEGySnUH6XjZF",
      "include_colab_link": true
    },
    "kernelspec": {
      "name": "python3",
      "display_name": "Python 3"
    },
    "language_info": {
      "name": "python"
    }
  },
  "cells": [
    {
      "cell_type": "markdown",
      "metadata": {
        "id": "view-in-github",
        "colab_type": "text"
      },
      "source": [
        "<a href=\"https://colab.research.google.com/github/YuthikaKhedwal/python/blob/main/T%26TLAB5.ipynb\" target=\"_parent\"><img src=\"https://colab.research.google.com/assets/colab-badge.svg\" alt=\"Open In Colab\"/></a>"
      ]
    },
    {
      "cell_type": "code",
      "execution_count": 15,
      "metadata": {
        "colab": {
          "base_uri": "https://localhost:8080/"
        },
        "id": "Bhb7RSuZNDgj",
        "outputId": "3905f857-10e3-4579-9152-34ca8cae4258"
      },
      "outputs": [
        {
          "output_type": "stream",
          "name": "stdout",
          "text": [
            "Enter no of ele: 9\n",
            "[6 2 6 6 4 6 8 1 5]\n",
            "[[6 2 6]\n",
            " [6 4 6]\n",
            " [8 1 5]]\n",
            "YUTHIKA KHEDWAL,1906150\n"
          ]
        }
      ],
      "source": [
        "import numpy as np \n",
        "from numpy import random\n",
        "\n",
        "def reshape() :\n",
        "  if(n < 4) :\n",
        "    print(\"Cannot be reshaped in pxq\")\n",
        "  else :\n",
        "    for i in range(n):\n",
        "      for j in range(n) :\n",
        "        if(i*j == n) :\n",
        "          print(arr.reshape(i,j))\n",
        "          return\n",
        "    print(\"Cannot be reshaped in pxq\")\n",
        "\n",
        "n = (int)(input(\"Enter no of ele: \"))\n",
        "arr = np.random.randint(1,10,n)\n",
        "print(arr)\n",
        "reshape()\n",
        "print(\"YUTHIKA KHEDWAL,1906150\")"
      ]
    },
    {
      "cell_type": "code",
      "source": [
        "import numpy as np\n",
        "n=int(input('enter value of n'))\n",
        "arr1=np.random.randint(1,50,(n,n))\n",
        "print(arr1)\n",
        "arr2=np.random.randint(1,50,(n,n))\n",
        "print(arr2)\n",
        "mnp=arr1@arr2\n",
        "print(mnp)\n",
        "mnpt=np.matrix.transpose(mnp)\n",
        "r=mnp@mnpt\n",
        "i=np.identity(n,dtype='int')\n",
        "\n",
        "comp=r==i\n",
        "result=comp.all()\n",
        "print(result)\n",
        "print(\"YUTHIKA KHEDWAL,1906150\")"
      ],
      "metadata": {
        "colab": {
          "base_uri": "https://localhost:8080/"
        },
        "id": "rt43Ot8tR8-5",
        "outputId": "5f900ac2-b859-48d9-9312-00c5bd2b9abc"
      },
      "execution_count": 14,
      "outputs": [
        {
          "output_type": "stream",
          "name": "stdout",
          "text": [
            "enter value of n3\n",
            "[[18 48 43]\n",
            " [49  1 28]\n",
            " [34 46 42]]\n",
            "[[42 29 39]\n",
            " [15 11 35]\n",
            " [28  5 23]]\n",
            "[[2680 1265 3371]\n",
            " [2857 1572 2590]\n",
            " [3294 1702 3902]]\n",
            "False\n",
            "YUTHIKA KHEDWAL,1906150\n"
          ]
        }
      ]
    },
    {
      "cell_type": "code",
      "source": [
        "import numpy as np\n",
        "m=int(input(\"Enter M:-\"))\n",
        "n=int(input(\"Enter N:-\"))\n",
        "matrix_A = []\n",
        "for i in range(m):\n",
        "  row_A = []\n",
        "  for j in range(n):\n",
        "    element=int(input())\n",
        "    row_A.append(element)\n",
        "  matrix_A.append(row_A)\n",
        "print(matrix_A)\n",
        "matrix_A=np.array(matrix_A)\n",
        "matrix_A=matrix_A.reshape(m,n)\n",
        "\n",
        "a=[]\n",
        "for i in range(0,2):\n",
        "    print(\"enter number at index\",i)\n",
        "    item=int(input(\"enter the column vector:\"))\n",
        "    a.append(item)\n",
        "arr2=np.array(a)\n",
        "arr2=arr2.reshape(n,1)\n",
        "print(arr2)\n",
        "print(\"dot products\")\n",
        "for i in range(m):\n",
        "    sub=matrix_A[0:n,i]\n",
        "    print(np.dot(sub,arr2),end=\" \")\n",
        "    print(\"YUTHIKA KHEDWAL,1906150\")"
      ],
      "metadata": {
        "colab": {
          "base_uri": "https://localhost:8080/"
        },
        "id": "ekd4seQlV9lZ",
        "outputId": "972624db-114c-4221-d6a8-8606187f7959"
      },
      "execution_count": 13,
      "outputs": [
        {
          "output_type": "stream",
          "name": "stdout",
          "text": [
            "Enter M:-2\n",
            "Enter N:-2\n",
            "1\n",
            "2\n",
            "3\n",
            "4\n",
            "[[1, 2], [3, 4]]\n",
            "enter number at index 0\n",
            "enter the column vector:2\n",
            "enter number at index 1\n",
            "enter the column vector:2\n",
            "[[2]\n",
            " [2]]\n",
            "dot products\n",
            "[8] YUTHIKA KHEDWAL,1906150\n",
            "[12] YUTHIKA KHEDWAL,1906150\n"
          ]
        }
      ]
    }
  ]
}