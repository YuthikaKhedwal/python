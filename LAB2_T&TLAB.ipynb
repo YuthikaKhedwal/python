{
  "nbformat": 4,
  "nbformat_minor": 0,
  "metadata": {
    "colab": {
      "name": "LAB2_T&TLAB",
      "provenance": [],
      "collapsed_sections": [],
      "authorship_tag": "ABX9TyOPeoRdBFzpLUSRAuHqgfiG",
      "include_colab_link": true
    },
    "kernelspec": {
      "name": "python3",
      "display_name": "Python 3"
    },
    "language_info": {
      "name": "python"
    }
  },
  "cells": [
    {
      "cell_type": "markdown",
      "metadata": {
        "id": "view-in-github",
        "colab_type": "text"
      },
      "source": [
        "<a href=\"https://colab.research.google.com/github/YuthikaKhedwal/python/blob/main/LAB2_T%26TLAB.ipynb\" target=\"_parent\"><img src=\"https://colab.research.google.com/assets/colab-badge.svg\" alt=\"Open In Colab\"/></a>"
      ]
    },
    {
      "cell_type": "code",
      "execution_count": 1,
      "metadata": {
        "colab": {
          "resources": {
            "http://localhost:8080/nbextensions/google.colab/files.js": {
              "data": "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",
              "ok": true,
              "headers": [
                [
                  "content-type",
                  "application/javascript"
                ]
              ],
              "status": 200,
              "status_text": ""
            }
          },
          "base_uri": "https://localhost:8080/",
          "height": 73
        },
        "id": "31Hc8FL0KC9L",
        "outputId": "4b79403e-48ee-47e6-c198-0dfb4bab4466"
      },
      "outputs": [
        {
          "output_type": "display_data",
          "data": {
            "text/html": [
              "\n",
              "     <input type=\"file\" id=\"files-677a046b-ddb0-48d7-beca-489b9cb74a2e\" name=\"files[]\" multiple disabled\n",
              "        style=\"border:none\" />\n",
              "     <output id=\"result-677a046b-ddb0-48d7-beca-489b9cb74a2e\">\n",
              "      Upload widget is only available when the cell has been executed in the\n",
              "      current browser session. Please rerun this cell to enable.\n",
              "      </output>\n",
              "      <script src=\"/nbextensions/google.colab/files.js\"></script> "
            ],
            "text/plain": [
              "<IPython.core.display.HTML object>"
            ]
          },
          "metadata": {}
        },
        {
          "output_type": "stream",
          "name": "stdout",
          "text": [
            "Saving data1.xlsx to data1.xlsx\n"
          ]
        }
      ],
      "source": [
        "from google.colab import files\n",
        "import pandas as pd\n",
        "from pandas import ExcelWriter\n",
        "from pandas import ExcelFile\n",
        "uploaded= files.upload()\n",
        "filename=list(uploaded.keys())[0]\n"
      ]
    },
    {
      "cell_type": "code",
      "source": [
        "dfe =pd.read_excel(\"data1.xlsx\");\n",
        "print(dfe)\n",
        "print(dfe.shape)\n",
        "print(dfe)\n",
        "print(type(dfe))"
      ],
      "metadata": {
        "colab": {
          "base_uri": "https://localhost:8080/"
        },
        "id": "Dh4yLWeQMFII",
        "outputId": "48e15d8f-19fa-4ee6-e3a7-fa58a27c30c9"
      },
      "execution_count": 2,
      "outputs": [
        {
          "output_type": "stream",
          "name": "stdout",
          "text": [
            "     First name  Username       Email address  Total(48)\n",
            "0       1022114   1022114  1022114@kiit.ac.in        0.0\n",
            "1       1022255   1022255  1022255@kiit.ac.in        0.0\n",
            "2       1022242   1022242  1022242@kiit.ac.in        0.0\n",
            "3       1022246   1022246  1022246@kiit.ac.in        0.0\n",
            "4       1022148   1022148  1022148@kiit.ac.in        8.0\n",
            "..          ...       ...                 ...        ...\n",
            "241     1022303   1022303  1022303@kiit.ac.in       39.0\n",
            "242     1022189   1022189  1022189@kiit.ac.in       39.0\n",
            "243     1022212   1022212  1022212@kiit.ac.in       42.0\n",
            "244     1022306   1022306  1022306@kiit.ac.in       43.0\n",
            "245     1022201   1022201  1022201@kiit.ac.in       44.0\n",
            "\n",
            "[246 rows x 4 columns]\n",
            "(246, 4)\n",
            "     First name  Username       Email address  Total(48)\n",
            "0       1022114   1022114  1022114@kiit.ac.in        0.0\n",
            "1       1022255   1022255  1022255@kiit.ac.in        0.0\n",
            "2       1022242   1022242  1022242@kiit.ac.in        0.0\n",
            "3       1022246   1022246  1022246@kiit.ac.in        0.0\n",
            "4       1022148   1022148  1022148@kiit.ac.in        8.0\n",
            "..          ...       ...                 ...        ...\n",
            "241     1022303   1022303  1022303@kiit.ac.in       39.0\n",
            "242     1022189   1022189  1022189@kiit.ac.in       39.0\n",
            "243     1022212   1022212  1022212@kiit.ac.in       42.0\n",
            "244     1022306   1022306  1022306@kiit.ac.in       43.0\n",
            "245     1022201   1022201  1022201@kiit.ac.in       44.0\n",
            "\n",
            "[246 rows x 4 columns]\n",
            "<class 'pandas.core.frame.DataFrame'>\n"
          ]
        }
      ]
    },
    {
      "cell_type": "code",
      "source": [
        "for i in dfe.index:\n",
        "    print(dfe['Total(48)'][i])"
      ],
      "metadata": {
        "colab": {
          "base_uri": "https://localhost:8080/"
        },
        "id": "gcDDKenbNNN3",
        "outputId": "249a54eb-c63d-4d06-c1bb-50b20dacd3c4"
      },
      "execution_count": 5,
      "outputs": [
        {
          "output_type": "stream",
          "name": "stdout",
          "text": [
            "0.0\n",
            "0.0\n",
            "0.0\n",
            "0.0\n",
            "8.0\n",
            "10.0\n",
            "11.0\n",
            "12.0\n",
            "13.5\n",
            "14.0\n",
            "15.0\n",
            "17.0\n",
            "17.0\n",
            "17.0\n",
            "17.0\n",
            "18.0\n",
            "18.0\n",
            "18.0\n",
            "18.0\n",
            "18.0\n",
            "19.0\n",
            "19.0\n",
            "19.0\n",
            "19.0\n",
            "19.0\n",
            "20.0\n",
            "20.0\n",
            "20.0\n",
            "20.0\n",
            "20.0\n",
            "20.0\n",
            "21.0\n",
            "21.0\n",
            "21.0\n",
            "21.0\n",
            "21.0\n",
            "21.0\n",
            "21.0\n",
            "21.0\n",
            "21.0\n",
            "21.0\n",
            "21.0\n",
            "21.0\n",
            "22.0\n",
            "22.0\n",
            "22.0\n",
            "22.0\n",
            "22.0\n",
            "22.0\n",
            "22.0\n",
            "22.0\n",
            "22.0\n",
            "23.0\n",
            "23.0\n",
            "23.0\n",
            "23.0\n",
            "23.0\n",
            "23.0\n",
            "23.0\n",
            "23.0\n",
            "23.0\n",
            "23.0\n",
            "23.0\n",
            "23.0\n",
            "23.0\n",
            "23.0\n",
            "23.5\n",
            "23.5\n",
            "24.0\n",
            "24.0\n",
            "24.0\n",
            "24.0\n",
            "24.0\n",
            "24.0\n",
            "24.0\n",
            "24.0\n",
            "24.0\n",
            "24.0\n",
            "24.0\n",
            "24.0\n",
            "24.0\n",
            "25.0\n",
            "25.0\n",
            "25.0\n",
            "25.0\n",
            "25.0\n",
            "25.0\n",
            "25.0\n",
            "25.0\n",
            "25.0\n",
            "25.0\n",
            "25.0\n",
            "25.0\n",
            "25.0\n",
            "25.0\n",
            "25.0\n",
            "26.0\n",
            "26.0\n",
            "26.0\n",
            "26.0\n",
            "26.0\n",
            "26.0\n",
            "26.0\n",
            "26.0\n",
            "26.0\n",
            "26.0\n",
            "26.0\n",
            "26.0\n",
            "26.0\n",
            "26.0\n",
            "26.0\n",
            "26.0\n",
            "26.0\n",
            "26.0\n",
            "26.0\n",
            "26.0\n",
            "26.0\n",
            "26.0\n",
            "26.0\n",
            "26.0\n",
            "26.0\n",
            "27.0\n",
            "27.0\n",
            "27.0\n",
            "27.0\n",
            "27.0\n",
            "27.0\n",
            "27.0\n",
            "27.0\n",
            "27.0\n",
            "27.0\n",
            "27.0\n",
            "27.0\n",
            "27.0\n",
            "27.0\n",
            "27.0\n",
            "28.0\n",
            "28.0\n",
            "28.0\n",
            "28.0\n",
            "28.0\n",
            "28.0\n",
            "28.0\n",
            "28.0\n",
            "28.0\n",
            "28.0\n",
            "28.0\n",
            "28.0\n",
            "28.0\n",
            "28.0\n",
            "28.0\n",
            "29.0\n",
            "29.0\n",
            "29.0\n",
            "29.0\n",
            "29.0\n",
            "29.0\n",
            "29.0\n",
            "29.0\n",
            "29.0\n",
            "29.0\n",
            "29.0\n",
            "29.0\n",
            "29.0\n",
            "29.0\n",
            "29.0\n",
            "29.0\n",
            "29.0\n",
            "29.0\n",
            "29.0\n",
            "30.0\n",
            "30.0\n",
            "30.0\n",
            "30.0\n",
            "30.0\n",
            "30.0\n",
            "30.0\n",
            "30.0\n",
            "30.0\n",
            "30.0\n",
            "30.0\n",
            "30.0\n",
            "30.0\n",
            "30.0\n",
            "30.0\n",
            "30.0\n",
            "30.0\n",
            "30.0\n",
            "30.0\n",
            "30.0\n",
            "30.0\n",
            "30.0\n",
            "30.0\n",
            "30.0\n",
            "31.0\n",
            "31.0\n",
            "31.0\n",
            "31.0\n",
            "31.0\n",
            "31.0\n",
            "31.0\n",
            "31.0\n",
            "31.0\n",
            "31.0\n",
            "31.0\n",
            "31.0\n",
            "31.0\n",
            "31.0\n",
            "31.0\n",
            "31.0\n",
            "32.0\n",
            "32.0\n",
            "32.0\n",
            "32.0\n",
            "32.0\n",
            "32.0\n",
            "32.0\n",
            "32.0\n",
            "32.0\n",
            "32.0\n",
            "32.0\n",
            "32.0\n",
            "33.0\n",
            "33.0\n",
            "33.0\n",
            "33.0\n",
            "33.0\n",
            "33.0\n",
            "33.0\n",
            "33.0\n",
            "34.0\n",
            "34.0\n",
            "34.0\n",
            "34.0\n",
            "34.0\n",
            "35.0\n",
            "35.0\n",
            "36.0\n",
            "37.0\n",
            "37.0\n",
            "37.0\n",
            "39.0\n",
            "39.0\n",
            "42.0\n",
            "43.0\n",
            "44.0\n"
          ]
        }
      ]
    },
    {
      "cell_type": "code",
      "source": [
        "  a=0\n",
        "  e=0\n",
        "  o=0\n",
        "  b=0\n",
        "  c=0\n",
        "  d=0\n",
        "  f=0\n",
        "  g=0\n",
        "  for i in dfe.index:\n",
        "    \n",
        "    x=(dfe['Total(48)'][i]/48)*100\n",
        "    if(x==0):\n",
        "      g=g+1\n",
        "    elif(x>=90):\n",
        "       o=o+1\n",
        "    elif(x>=80):\n",
        "        e=e+1\n",
        "    elif(x>=70):\n",
        "        a=a+1\n",
        "    elif(x>=60):\n",
        "        b=b+1\n",
        "    elif(x>=50):\n",
        "        c=c+1\n",
        "    elif(x>=40):\n",
        "        d=d+1\n",
        "    elif(x<40):\n",
        "        f=f+1\n",
        "\n",
        "  \n",
        "  print(\"O=\",o)\n",
        "  print(\"E=\",e)\n",
        "  print(\"A=\",a)\n",
        "  print(\"B=\",b)\n",
        "  print(\"C=\",c)\n",
        "  print(\"D=\",d)\n",
        "  print(\"E=\",e)\n",
        "  print(\"F=\",f)\n",
        "  print(\"Not Evaluated=\",g)\n",
        "    "
      ],
      "metadata": {
        "colab": {
          "base_uri": "https://localhost:8080/"
        },
        "id": "coFIDMJFPONV",
        "outputId": "254d44e5-3951-494d-d821-d58f12d8a6ba"
      },
      "execution_count": 23,
      "outputs": [
        {
          "output_type": "stream",
          "name": "stdout",
          "text": [
            "O= 1\n",
            "E= 4\n",
            "A= 11\n",
            "B= 79\n",
            "C= 83\n",
            "D= 43\n",
            "E= 4\n",
            "F= 21\n",
            "Not Evaluated= 4\n"
          ]
        }
      ]
    },
    {
      "cell_type": "code",
      "source": [
        "from google.colab import files\n",
        "import pandas as pd\n",
        "from pandas import ExcelWriter\n",
        "from pandas import ExcelFile\n",
        "uploaded= files.upload()\n",
        "filename=list(uploaded.keys())[0]\n"
      ],
      "metadata": {
        "colab": {
          "resources": {
            "http://localhost:8080/nbextensions/google.colab/files.js": {
              "data": "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",
              "ok": true,
              "headers": [
                [
                  "content-type",
                  "application/javascript"
                ]
              ],
              "status": 200,
              "status_text": ""
            }
          },
          "base_uri": "https://localhost:8080/",
          "height": 73
        },
        "id": "3FPQ6VZ6XOog",
        "outputId": "f9c065a8-2e4a-4a84-f0a5-de9827da5558"
      },
      "execution_count": 24,
      "outputs": [
        {
          "output_type": "display_data",
          "data": {
            "text/html": [
              "\n",
              "     <input type=\"file\" id=\"files-3b9631b7-4049-4bce-a8b9-335c547b57a3\" name=\"files[]\" multiple disabled\n",
              "        style=\"border:none\" />\n",
              "     <output id=\"result-3b9631b7-4049-4bce-a8b9-335c547b57a3\">\n",
              "      Upload widget is only available when the cell has been executed in the\n",
              "      current browser session. Please rerun this cell to enable.\n",
              "      </output>\n",
              "      <script src=\"/nbextensions/google.colab/files.js\"></script> "
            ],
            "text/plain": [
              "<IPython.core.display.HTML object>"
            ]
          },
          "metadata": {}
        },
        {
          "output_type": "stream",
          "name": "stdout",
          "text": [
            "Saving data2.xlsx to data2.xlsx\n"
          ]
        }
      ]
    },
    {
      "cell_type": "code",
      "source": [
        "dfe = pd.read_excel(\"data2.xlsx\")\n",
        "count=0\n",
        "\n",
        "for i in dfe.index:\n",
        "    \n",
        "\n",
        "    sum=0\n",
        "    if(dfe['Q. 1 /12.00'][i]!=\"-\") :\n",
        "      sum+=float(dfe['Q. 1 /12.00'][i])\n",
        "    if(dfe['Q. 2 /12.00'][i]!=\"-\") :\n",
        "      sum+=float(dfe['Q. 2 /12.00'][i])\n",
        "    if(dfe['Q. 3 /12.00'][i]!=\"-\") :\n",
        "      sum+=float(dfe['Q. 3 /12.00'][i])\n",
        "    if(dfe['Q. 4 /12.00'][i]!=\"-\") :\n",
        "      sum+=float(dfe['Q. 4 /12.00'][i])\n",
        "    print(\"Best of 3 of \",i,\" is \",sum)\n",
        "\n",
        "print(\"No. of candidates attempted 4 answer = \",count)"
      ],
      "metadata": {
        "colab": {
          "base_uri": "https://localhost:8080/"
        },
        "id": "4rAKY5cMYt1D",
        "outputId": "ff09bd20-70c3-4c18-c2b8-a27fdc89b163"
      },
      "execution_count": 32,
      "outputs": [
        {
          "output_type": "stream",
          "name": "stdout",
          "text": [
            "Best of 3 of  0  is  0.0\n",
            "Best of 3 of  1  is  0\n",
            "Best of 3 of  2  is  0\n",
            "Best of 3 of  3  is  0\n",
            "Best of 3 of  4  is  8.0\n",
            "Best of 3 of  5  is  10.0\n",
            "Best of 3 of  6  is  11.0\n",
            "Best of 3 of  7  is  12.0\n",
            "Best of 3 of  8  is  13.5\n",
            "Best of 3 of  9  is  14.0\n",
            "Best of 3 of  10  is  15.0\n",
            "Best of 3 of  11  is  17.0\n",
            "Best of 3 of  12  is  17.0\n",
            "Best of 3 of  13  is  17.0\n",
            "Best of 3 of  14  is  17.0\n",
            "Best of 3 of  15  is  18.0\n",
            "Best of 3 of  16  is  18.0\n",
            "Best of 3 of  17  is  18.0\n",
            "Best of 3 of  18  is  18.0\n",
            "Best of 3 of  19  is  18.0\n",
            "Best of 3 of  20  is  19.0\n",
            "Best of 3 of  21  is  19.0\n",
            "Best of 3 of  22  is  19.0\n",
            "Best of 3 of  23  is  19.0\n",
            "Best of 3 of  24  is  19.0\n",
            "Best of 3 of  25  is  20.0\n",
            "Best of 3 of  26  is  20.0\n",
            "Best of 3 of  27  is  20.0\n",
            "Best of 3 of  28  is  20.0\n",
            "Best of 3 of  29  is  20.0\n",
            "Best of 3 of  30  is  20.0\n",
            "Best of 3 of  31  is  21.0\n",
            "Best of 3 of  32  is  21.0\n",
            "Best of 3 of  33  is  21.0\n",
            "Best of 3 of  34  is  21.0\n",
            "Best of 3 of  35  is  21.0\n",
            "Best of 3 of  36  is  21.0\n",
            "Best of 3 of  37  is  21.0\n",
            "Best of 3 of  38  is  21.0\n",
            "Best of 3 of  39  is  21.0\n",
            "Best of 3 of  40  is  21.0\n",
            "Best of 3 of  41  is  21.0\n",
            "Best of 3 of  42  is  21.0\n",
            "Best of 3 of  43  is  22.0\n",
            "Best of 3 of  44  is  22.0\n",
            "Best of 3 of  45  is  22.0\n",
            "Best of 3 of  46  is  22.0\n",
            "Best of 3 of  47  is  22.0\n",
            "Best of 3 of  48  is  22.0\n",
            "Best of 3 of  49  is  22.0\n",
            "Best of 3 of  50  is  22.0\n",
            "Best of 3 of  51  is  22.0\n",
            "Best of 3 of  52  is  23.0\n",
            "Best of 3 of  53  is  23.0\n",
            "Best of 3 of  54  is  23.0\n",
            "Best of 3 of  55  is  23.0\n",
            "Best of 3 of  56  is  23.0\n",
            "Best of 3 of  57  is  23.0\n",
            "Best of 3 of  58  is  23.0\n",
            "Best of 3 of  59  is  23.0\n",
            "Best of 3 of  60  is  23.0\n",
            "Best of 3 of  61  is  23.0\n",
            "Best of 3 of  62  is  23.0\n",
            "Best of 3 of  63  is  23.0\n",
            "Best of 3 of  64  is  23.0\n",
            "Best of 3 of  65  is  23.0\n",
            "Best of 3 of  66  is  23.5\n",
            "Best of 3 of  67  is  23.5\n",
            "Best of 3 of  68  is  24.0\n",
            "Best of 3 of  69  is  24.0\n",
            "Best of 3 of  70  is  24.0\n",
            "Best of 3 of  71  is  24.0\n",
            "Best of 3 of  72  is  24.0\n",
            "Best of 3 of  73  is  24.0\n",
            "Best of 3 of  74  is  24.0\n",
            "Best of 3 of  75  is  24.0\n",
            "Best of 3 of  76  is  24.0\n",
            "Best of 3 of  77  is  24.0\n",
            "Best of 3 of  78  is  24.0\n",
            "Best of 3 of  79  is  24.0\n",
            "Best of 3 of  80  is  24.0\n",
            "Best of 3 of  81  is  25.0\n",
            "Best of 3 of  82  is  25.0\n",
            "Best of 3 of  83  is  25.0\n",
            "Best of 3 of  84  is  25.0\n",
            "Best of 3 of  85  is  25.0\n",
            "Best of 3 of  86  is  25.0\n",
            "Best of 3 of  87  is  25.0\n",
            "Best of 3 of  88  is  25.0\n",
            "Best of 3 of  89  is  25.0\n",
            "Best of 3 of  90  is  25.0\n",
            "Best of 3 of  91  is  25.0\n",
            "Best of 3 of  92  is  25.0\n",
            "Best of 3 of  93  is  25.0\n",
            "Best of 3 of  94  is  25.0\n",
            "Best of 3 of  95  is  25.0\n",
            "Best of 3 of  96  is  26.0\n",
            "Best of 3 of  97  is  26.0\n",
            "Best of 3 of  98  is  26.0\n",
            "Best of 3 of  99  is  26.0\n",
            "Best of 3 of  100  is  26.0\n",
            "Best of 3 of  101  is  26.0\n",
            "Best of 3 of  102  is  26.0\n",
            "Best of 3 of  103  is  26.0\n",
            "Best of 3 of  104  is  26.0\n",
            "Best of 3 of  105  is  26.0\n",
            "Best of 3 of  106  is  26.0\n",
            "Best of 3 of  107  is  26.0\n",
            "Best of 3 of  108  is  26.0\n",
            "Best of 3 of  109  is  26.0\n",
            "Best of 3 of  110  is  26.0\n",
            "Best of 3 of  111  is  26.0\n",
            "Best of 3 of  112  is  26.0\n",
            "Best of 3 of  113  is  26.0\n",
            "Best of 3 of  114  is  26.0\n",
            "Best of 3 of  115  is  26.0\n",
            "Best of 3 of  116  is  26.0\n",
            "Best of 3 of  117  is  26.0\n",
            "Best of 3 of  118  is  26.0\n",
            "Best of 3 of  119  is  26.0\n",
            "Best of 3 of  120  is  26.0\n",
            "Best of 3 of  121  is  27.0\n",
            "Best of 3 of  122  is  27.0\n",
            "Best of 3 of  123  is  27.0\n",
            "Best of 3 of  124  is  27.0\n",
            "Best of 3 of  125  is  27.0\n",
            "Best of 3 of  126  is  27.0\n",
            "Best of 3 of  127  is  27.0\n",
            "Best of 3 of  128  is  27.0\n",
            "Best of 3 of  129  is  27.0\n",
            "Best of 3 of  130  is  27.0\n",
            "Best of 3 of  131  is  27.0\n",
            "Best of 3 of  132  is  27.0\n",
            "Best of 3 of  133  is  27.0\n",
            "Best of 3 of  134  is  27.0\n",
            "Best of 3 of  135  is  27.0\n",
            "Best of 3 of  136  is  28.0\n",
            "Best of 3 of  137  is  28.0\n",
            "Best of 3 of  138  is  28.0\n",
            "Best of 3 of  139  is  28.0\n",
            "Best of 3 of  140  is  28.0\n",
            "Best of 3 of  141  is  28.0\n",
            "Best of 3 of  142  is  28.0\n",
            "Best of 3 of  143  is  28.0\n",
            "Best of 3 of  144  is  28.0\n",
            "Best of 3 of  145  is  28.0\n",
            "Best of 3 of  146  is  28.0\n",
            "Best of 3 of  147  is  28.0\n",
            "Best of 3 of  148  is  28.0\n",
            "Best of 3 of  149  is  28.0\n",
            "Best of 3 of  150  is  28.0\n",
            "Best of 3 of  151  is  29.0\n",
            "Best of 3 of  152  is  29.0\n",
            "Best of 3 of  153  is  29.0\n",
            "Best of 3 of  154  is  29.0\n",
            "Best of 3 of  155  is  29.0\n",
            "Best of 3 of  156  is  29.0\n",
            "Best of 3 of  157  is  29.0\n",
            "Best of 3 of  158  is  29.0\n",
            "Best of 3 of  159  is  29.0\n",
            "Best of 3 of  160  is  29.0\n",
            "Best of 3 of  161  is  29.0\n",
            "Best of 3 of  162  is  29.0\n",
            "Best of 3 of  163  is  29.0\n",
            "Best of 3 of  164  is  29.0\n",
            "Best of 3 of  165  is  29.0\n",
            "Best of 3 of  166  is  29.0\n",
            "Best of 3 of  167  is  29.0\n",
            "Best of 3 of  168  is  29.0\n",
            "Best of 3 of  169  is  29.0\n",
            "Best of 3 of  170  is  30.0\n",
            "Best of 3 of  171  is  30.0\n",
            "Best of 3 of  172  is  30.0\n",
            "Best of 3 of  173  is  30.0\n",
            "Best of 3 of  174  is  30.0\n",
            "Best of 3 of  175  is  30.0\n",
            "Best of 3 of  176  is  30.0\n",
            "Best of 3 of  177  is  30.0\n",
            "Best of 3 of  178  is  30.0\n",
            "Best of 3 of  179  is  30.0\n",
            "Best of 3 of  180  is  30.0\n",
            "Best of 3 of  181  is  30.0\n",
            "Best of 3 of  182  is  30.0\n",
            "Best of 3 of  183  is  30.0\n",
            "Best of 3 of  184  is  30.0\n",
            "Best of 3 of  185  is  30.0\n",
            "Best of 3 of  186  is  30.0\n",
            "Best of 3 of  187  is  30.0\n",
            "Best of 3 of  188  is  30.0\n",
            "Best of 3 of  189  is  30.0\n",
            "Best of 3 of  190  is  30.0\n",
            "Best of 3 of  191  is  30.0\n",
            "Best of 3 of  192  is  30.0\n",
            "Best of 3 of  193  is  30.0\n",
            "Best of 3 of  194  is  31.0\n",
            "Best of 3 of  195  is  31.0\n",
            "Best of 3 of  196  is  31.0\n",
            "Best of 3 of  197  is  31.0\n",
            "Best of 3 of  198  is  31.0\n",
            "Best of 3 of  199  is  31.0\n",
            "Best of 3 of  200  is  31.0\n",
            "Best of 3 of  201  is  31.0\n",
            "Best of 3 of  202  is  31.0\n",
            "Best of 3 of  203  is  31.0\n",
            "Best of 3 of  204  is  31.0\n",
            "Best of 3 of  205  is  31.0\n",
            "Best of 3 of  206  is  31.0\n",
            "Best of 3 of  207  is  31.0\n",
            "Best of 3 of  208  is  31.0\n",
            "Best of 3 of  209  is  31.0\n",
            "Best of 3 of  210  is  32.0\n",
            "Best of 3 of  211  is  32.0\n",
            "Best of 3 of  212  is  32.0\n",
            "Best of 3 of  213  is  32.0\n",
            "Best of 3 of  214  is  32.0\n",
            "Best of 3 of  215  is  32.0\n",
            "Best of 3 of  216  is  32.0\n",
            "Best of 3 of  217  is  32.0\n",
            "Best of 3 of  218  is  32.0\n",
            "Best of 3 of  219  is  32.0\n",
            "Best of 3 of  220  is  32.0\n",
            "Best of 3 of  221  is  32.0\n",
            "Best of 3 of  222  is  33.0\n",
            "Best of 3 of  223  is  33.0\n",
            "Best of 3 of  224  is  33.0\n",
            "Best of 3 of  225  is  33.0\n",
            "Best of 3 of  226  is  33.0\n",
            "Best of 3 of  227  is  33.0\n",
            "Best of 3 of  228  is  33.0\n",
            "Best of 3 of  229  is  33.0\n",
            "Best of 3 of  230  is  34.0\n",
            "Best of 3 of  231  is  34.0\n",
            "Best of 3 of  232  is  34.0\n",
            "Best of 3 of  233  is  34.0\n",
            "Best of 3 of  234  is  34.0\n",
            "Best of 3 of  235  is  35.0\n",
            "Best of 3 of  236  is  35.0\n",
            "Best of 3 of  237  is  36.0\n",
            "Best of 3 of  238  is  37.0\n",
            "Best of 3 of  239  is  37.0\n",
            "Best of 3 of  240  is  37.0\n",
            "Best of 3 of  241  is  39.0\n",
            "Best of 3 of  242  is  39.0\n",
            "Best of 3 of  243  is  42.0\n",
            "Best of 3 of  244  is  43.0\n",
            "Best of 3 of  245  is  44.0\n",
            "No. of candidates attempted 4 answer =  0\n"
          ]
        }
      ]
    },
    {
      "cell_type": "code",
      "source": [
        "def func_sum(n):\n",
        " return lambda x : x * n\n",
        "\n",
        "result = func_sum(2)\n",
        "print(\"2 times the number of 7 =\", result(7))\n",
        "result = func_sum(3)\n",
        "print(\"3 times the number of 7 =\", result(7))\n",
        "result = func_sum(4)\n",
        "print(\"4  times the number of 7 =\", result(7))\n",
        "result = func_sum(5)\n",
        "print(\"5 times the number 7 =\", result(7))"
      ],
      "metadata": {
        "colab": {
          "base_uri": "https://localhost:8080/"
        },
        "id": "UpFifmjAmxau",
        "outputId": "c30756ce-f89e-479d-fdbc-f44beb65e7d3"
      },
      "execution_count": 33,
      "outputs": [
        {
          "output_type": "stream",
          "name": "stdout",
          "text": [
            "2 times the number of 7 = 14\n",
            "3 times the number of 7 = 21\n",
            "4  times the number of 7 = 28\n",
            "5 times the number 7 = 35\n"
          ]
        }
      ]
    },
    {
      "cell_type": "code",
      "source": [
        "def test(n):\n",
        "    if n in range(2,10):\n",
        "        print( \" %s is in the range\"%str(n))\n",
        "    else :\n",
        "        print(\"The number is outside the given range.\")\n",
        "\n",
        "test(5)"
      ],
      "metadata": {
        "colab": {
          "base_uri": "https://localhost:8080/"
        },
        "id": "kZn5dmAxnG3g",
        "outputId": "a59ef768-49b4-4d02-9618-1a8cc89e2bbb"
      },
      "execution_count": 34,
      "outputs": [
        {
          "output_type": "stream",
          "name": "stdout",
          "text": [
            " 5 is in the range\n"
          ]
        }
      ]
    },
    {
      "cell_type": "code",
      "source": [
        "def perfect_number(n):\n",
        "    sum = 0\n",
        "    for x in range(1, n):\n",
        "        if n % x == 0:\n",
        "            sum += x\n",
        "    return sum == n\n",
        "print(perfect_number(6))"
      ],
      "metadata": {
        "colab": {
          "base_uri": "https://localhost:8080/"
        },
        "id": "YbyNlNDSnUGJ",
        "outputId": "af7276b5-5750-470e-83de-211d8c2e1fbf"
      },
      "execution_count": 35,
      "outputs": [
        {
          "output_type": "stream",
          "name": "stdout",
          "text": [
            "True\n"
          ]
        }
      ]
    },
    {
      "cell_type": "code",
      "source": [
        "name=input(\"enter the name:\")\n",
        "address=input(\"enter your address:\")\n",
        "dob=input(\"enter your dob:\")\n",
        "aadhar=input(\"enter aadhar\")\n",
        "phone=input(\"enter your phone no:\")\n",
        "pan=input(\"enter the pan:\")\n",
        "print(\" \")\n",
        "print(\"name:\"+name)\n",
        "print(\"address:\"+address)\n",
        "print(\"dob:\"+dob)\n",
        "print(\"aadhar no:\"+aadhar)\n",
        "print(\"phone no:\"+phone)\n",
        "print(\"pan no:\"+pan)"
      ],
      "metadata": {
        "colab": {
          "base_uri": "https://localhost:8080/"
        },
        "id": "Mkj7cU5Xqjh-",
        "outputId": "445d0634-b0e6-45fc-e8e2-1c1144002eac"
      },
      "execution_count": 37,
      "outputs": [
        {
          "output_type": "stream",
          "name": "stdout",
          "text": [
            "enter the name:Yuthika Khedwal\n",
            "enter your address:WestBengal\n",
            "enter your dob:16/03/2001\n",
            "enter aadhar123456789\n",
            "enter your phone no:9680480981\n",
            "enter the pan:zyx987654321\n",
            " \n",
            "name:Yuthika Khedwal\n",
            "address:WestBengal\n",
            "dob:16/03/2001\n",
            "aadhar no:123456789\n",
            "phone no:9680480981\n",
            "pan no:zyx987654321\n"
          ]
        }
      ]
    },
    {
      "cell_type": "code",
      "source": [
        "bill=(input(\"Enter the bill value: \"))\n",
        "intBill=int(bill)\n",
        "if intBill>=1000: \n",
        "    discount=0.05*(intBill)\n",
        "else :\n",
        "  discount=0\n",
        "print(\"Total Bill value: \"+bill)\n",
        "print(\"Discount added to account: \"+(str)(discount))"
      ],
      "metadata": {
        "colab": {
          "base_uri": "https://localhost:8080/"
        },
        "id": "RVPDVQ-QrIpj",
        "outputId": "2bfef6d1-8b9a-4a05-92a6-a3e1be73e7a7"
      },
      "execution_count": 38,
      "outputs": [
        {
          "output_type": "stream",
          "name": "stdout",
          "text": [
            "Enter the bill value: 10000\n",
            "Total Bill value: 10000\n",
            "Discount added to account: 500.0\n"
          ]
        }
      ]
    },
    {
      "cell_type": "code",
      "source": [
        "def binary(n):\n",
        "   if n > 1:\n",
        "       binary(n//2)\n",
        "   print(n % 2,end = '')\n",
        "\n",
        "name = input(\"Enter your name : \")\n",
        "for i in name:\n",
        "  n = ord(i)\n",
        "  binary(n)\n",
        "  print(end=\" \");"
      ],
      "metadata": {
        "colab": {
          "base_uri": "https://localhost:8080/"
        },
        "id": "EqKKrqlZrU9R",
        "outputId": "4eba711d-73d2-43d6-8746-9f18ebecedc3"
      },
      "execution_count": 39,
      "outputs": [
        {
          "output_type": "stream",
          "name": "stdout",
          "text": [
            "Enter your name : Yuthika \n",
            "1011001 1110101 1110100 1101000 1101001 1101011 1100001 100000 "
          ]
        }
      ]
    },
    {
      "cell_type": "code",
      "source": [
        "num=int(input(\"Enter the number: \"))\n",
        "s=0\n",
        "while (num!=0):\n",
        " d=num%10\n",
        " s=s+d\n",
        " num=num//10\n",
        "print(\"Sum of digits is \" + str(s))"
      ],
      "metadata": {
        "colab": {
          "base_uri": "https://localhost:8080/"
        },
        "id": "pugSJbHMrjXA",
        "outputId": "52c85324-5c3f-48db-9d63-217b7736aba1"
      },
      "execution_count": 55,
      "outputs": [
        {
          "output_type": "stream",
          "name": "stdout",
          "text": [
            "Enter the number: 150\n",
            "Sum of digits is 6\n"
          ]
        }
      ]
    },
    {
      "cell_type": "code",
      "source": [
        "num=int(input(\"Enter the number: \"))\n",
        "def factorial(num):\n",
        "  if num==0 or num==1:\n",
        "    return 1\n",
        "  else:\n",
        "    return num*factorial(num-1)\n",
        "print(\"Factorial is:\")\n",
        "print(factorial(num))"
      ],
      "metadata": {
        "colab": {
          "base_uri": "https://localhost:8080/"
        },
        "id": "8i-hTOJJtam1",
        "outputId": "ea1ebb46-7702-403e-d126-11d1237dd5cf"
      },
      "execution_count": 54,
      "outputs": [
        {
          "output_type": "stream",
          "name": "stdout",
          "text": [
            "Enter the number: 5\n",
            "Factorial is:\n",
            "120\n"
          ]
        }
      ]
    }
  ]
}